{
 "cells": [
  {
   "cell_type": "markdown",
   "metadata": {},
   "source": [
    "# 조건문"
   ]
  },
  {
   "cell_type": "code",
   "execution_count": 3,
   "metadata": {},
   "outputs": [
    {
     "name": "stdout",
     "output_type": "stream",
     "text": [
      "정수 입력> -3\n"
     ]
    }
   ],
   "source": [
    "# 양수 판별\n",
    "n = int(input('정수 입력> '))"
   ]
  },
  {
   "cell_type": "code",
   "execution_count": 4,
   "metadata": {},
   "outputs": [
    {
     "name": "stdout",
     "output_type": "stream",
     "text": [
      "-3 은/는 0 또는 음수입니다.\n"
     ]
    }
   ],
   "source": [
    "if n > 0:\n",
    "    print('%d 은/는 양수입니다.' % n)\n",
    "else:\n",
    "    print('%d 은/는 0 또는 음수입니다.' % n)"
   ]
  },
  {
   "cell_type": "code",
   "execution_count": 6,
   "metadata": {},
   "outputs": [
    {
     "name": "stdout",
     "output_type": "stream",
     "text": [
      "필기성적을 입력하세요: 85\n",
      "실기성적을 입력하세요: 75\n"
     ]
    }
   ],
   "source": [
    "# 논리 곱\n",
    "score1 = int(input('필기성적을 입력하세요: '))\n",
    "score2 = int(input('실기성적을 입력하세요: '))"
   ]
  },
  {
   "cell_type": "code",
   "execution_count": 9,
   "metadata": {},
   "outputs": [
    {
     "name": "stdout",
     "output_type": "stream",
     "text": [
      "불합격!\n"
     ]
    }
   ],
   "source": [
    "if ((score1 >= 80) and (score2 >=80)):\n",
    "    print('합격!')\n",
    "else:\n",
    "    print('불합격!')"
   ]
  },
  {
   "cell_type": "code",
   "execution_count": 13,
   "metadata": {},
   "outputs": [
    {
     "name": "stdout",
     "output_type": "stream",
     "text": [
      "이름 입력> James\n"
     ]
    }
   ],
   "source": [
    "# 논리 부정\n",
    "name = None\n",
    "name = input('이름 입력> ')"
   ]
  },
  {
   "cell_type": "code",
   "execution_count": 14,
   "metadata": {},
   "outputs": [
    {
     "name": "stdout",
     "output_type": "stream",
     "text": [
      "이름: James\n"
     ]
    }
   ],
   "source": [
    "if not name:\n",
    "    print('이름이 입력되지 않았음.')\n",
    "else:\n",
    "    print('이름: %s' % name)"
   ]
  },
  {
   "cell_type": "code",
   "execution_count": 18,
   "metadata": {},
   "outputs": [
    {
     "name": "stdout",
     "output_type": "stream",
     "text": [
      "정수 입력> 5\n"
     ]
    }
   ],
   "source": [
    "# 양수, 0, 음수 판별\n",
    "n = int(input('정수 입력> '))"
   ]
  },
  {
   "cell_type": "code",
   "execution_count": 19,
   "metadata": {},
   "outputs": [
    {
     "name": "stdout",
     "output_type": "stream",
     "text": [
      "5 은/는 양수입니다.\n"
     ]
    }
   ],
   "source": [
    "if n > 0:\n",
    "    print('%d 은/는 양수입니다.' % n)\n",
    "elif n == 0:\n",
    "    print('0 입니다.')\n",
    "else:\n",
    "    print('%d 은/는 음수입니다.' % n)"
   ]
  },
  {
   "cell_type": "code",
   "execution_count": 24,
   "metadata": {},
   "outputs": [
    {
     "name": "stdout",
     "output_type": "stream",
     "text": [
      "정수 입력> 100\n"
     ]
    }
   ],
   "source": [
    "# 연습문제: 학점계산\n",
    "# A: 90 <= score <= 100\n",
    "# B: 80 <= score < 90\n",
    "# C: 70 <= score < 80\n",
    "# D: 60 <= score < 70\n",
    "# F: score < 60\n",
    "\n",
    "score = int(input('정수 입력> '))"
   ]
  },
  {
   "cell_type": "code",
   "execution_count": 28,
   "metadata": {},
   "outputs": [
    {
     "name": "stdout",
     "output_type": "stream",
     "text": [
      "100 A\n"
     ]
    }
   ],
   "source": [
    "if score >= 90:\n",
    "    grade='A'\n",
    "elif score >= 80:\n",
    "    grade='B'\n",
    "elif score >= 70:\n",
    "    grade='C'\n",
    "elif score >= 60:\n",
    "    grade='D'\n",
    "else:\n",
    "    grade='F'\n",
    "print(score, grade)"
   ]
  },
  {
   "cell_type": "code",
   "execution_count": null,
   "metadata": {},
   "outputs": [],
   "source": [
    "# 세 수의 합과 평균\n",
    "x = int(input('숫자> '))\n",
    "y = int(input('숫자> '))\n",
    "z = int(input('숫자> '))"
   ]
  },
  {
   "cell_type": "code",
   "execution_count": 29,
   "metadata": {},
   "outputs": [
    {
     "name": "stdout",
     "output_type": "stream",
     "text": [
      "세개의 숫자 입력45 89 38\n"
     ]
    }
   ],
   "source": [
    "x, y, z = input('세개의 숫자 입력').split()"
   ]
  },
  {
   "cell_type": "code",
   "execution_count": 31,
   "metadata": {},
   "outputs": [
    {
     "data": {
      "text/plain": [
       "('45', '89', '38')"
      ]
     },
     "execution_count": 31,
     "metadata": {},
     "output_type": "execute_result"
    }
   ],
   "source": [
    "x, y, z"
   ]
  },
  {
   "cell_type": "code",
   "execution_count": 32,
   "metadata": {},
   "outputs": [
    {
     "data": {
      "text/plain": [
       "(45, 89, 38)"
      ]
     },
     "execution_count": 32,
     "metadata": {},
     "output_type": "execute_result"
    }
   ],
   "source": [
    "int(x), int(y), int(z)"
   ]
  },
  {
   "cell_type": "code",
   "execution_count": 33,
   "metadata": {},
   "outputs": [
    {
     "name": "stdout",
     "output_type": "stream",
     "text": [
      "세개의 숫자 입력35 56 78\n"
     ]
    },
    {
     "data": {
      "text/plain": [
       "(35, 56, 78)"
      ]
     },
     "execution_count": 33,
     "metadata": {},
     "output_type": "execute_result"
    }
   ],
   "source": [
    "x, y, z = map(int, input('세개의 숫자 입력').split())\n",
    "x, y, z"
   ]
  },
  {
   "cell_type": "code",
   "execution_count": 34,
   "metadata": {},
   "outputs": [
    {
     "data": {
      "text/plain": [
       "(169, 56.333333333333336)"
      ]
     },
     "execution_count": 34,
     "metadata": {},
     "output_type": "execute_result"
    }
   ],
   "source": [
    "sum = x + y + z\n",
    "avg = sum /3\n",
    "sum, avg"
   ]
  },
  {
   "cell_type": "code",
   "execution_count": 35,
   "metadata": {},
   "outputs": [],
   "source": [
    "# 만 나이 계산\n",
    "current_year = 2020\n",
    "current_month = 8\n",
    "current_day = 28"
   ]
  },
  {
   "cell_type": "code",
   "execution_count": 59,
   "metadata": {},
   "outputs": [
    {
     "name": "stdout",
     "output_type": "stream",
     "text": [
      "생일 입력> 2000 8 28\n"
     ]
    },
    {
     "data": {
      "text/plain": [
       "(2000, 8, 28)"
      ]
     },
     "execution_count": 59,
     "metadata": {},
     "output_type": "execute_result"
    }
   ],
   "source": [
    "birth_year, birth_month, birth_day = map(int, input('생일 입력> ').split())\n",
    "birth_year, birth_month, birth_day"
   ]
  },
  {
   "cell_type": "code",
   "execution_count": 64,
   "metadata": {},
   "outputs": [],
   "source": [
    "if current_month > birth_month:\n",
    "    age = current_year - birth_year\n",
    "elif current_month < birth_month:\n",
    "    age = current_year - birth_year - 1\n",
    "elif current_day < birth_day:\n",
    "    age = current_year - birth_year - 1\n",
    "else:\n",
    "    age = current_year - birth_year"
   ]
  },
  {
   "cell_type": "code",
   "execution_count": 66,
   "metadata": {},
   "outputs": [
    {
     "data": {
      "text/plain": [
       "20"
      ]
     },
     "execution_count": 66,
     "metadata": {},
     "output_type": "execute_result"
    }
   ],
   "source": [
    "age"
   ]
  },
  {
   "cell_type": "code",
   "execution_count": 67,
   "metadata": {},
   "outputs": [
    {
     "name": "stdout",
     "output_type": "stream",
     "text": [
      "20\n"
     ]
    }
   ],
   "source": [
    "# 현재월 > 생월\n",
    "if current_month > birth_month:\n",
    "    age = current_year - birth_year\n",
    "\n",
    "# 현재월 < 생월\n",
    "elif current_month < birth_month:\n",
    "    age = current_year - birth_year - 1\n",
    "\n",
    "# 현재월 == 생월\n",
    "else:\n",
    "    \n",
    "    # 현재일 < 생일\n",
    "    if current_day < birth_day:\n",
    "        age = current_year - birth_year - 1\n",
    "    \n",
    "    # 현재일 >= 생일\n",
    "    else:\n",
    "        age = current_year - birth_year\n",
    "        \n",
    "print(age)"
   ]
  },
  {
   "cell_type": "code",
   "execution_count": 70,
   "metadata": {},
   "outputs": [
    {
     "data": {
      "text/plain": [
       "datetime.datetime(2020, 8, 28, 11, 20, 17, 299906)"
      ]
     },
     "execution_count": 70,
     "metadata": {},
     "output_type": "execute_result"
    }
   ],
   "source": [
    "# 파이썬 datetime 모듈 활용\n",
    "import datetime\n",
    "datetime.datetime.now()"
   ]
  },
  {
   "cell_type": "code",
   "execution_count": 71,
   "metadata": {},
   "outputs": [
    {
     "data": {
      "text/plain": [
       "(2020, 8, 28)"
      ]
     },
     "execution_count": 71,
     "metadata": {},
     "output_type": "execute_result"
    }
   ],
   "source": [
    "current_year = datetime.datetime.now().year\n",
    "current_month = datetime.datetime.now().month\n",
    "current_day = datetime.datetime.now().day\n",
    "current_year, current_month, current_day"
   ]
  },
  {
   "cell_type": "code",
   "execution_count": 72,
   "metadata": {},
   "outputs": [
    {
     "name": "stdout",
     "output_type": "stream",
     "text": [
      "생일 입력> 2000 8 27\n"
     ]
    },
    {
     "data": {
      "text/plain": [
       "(2000, 8, 27)"
      ]
     },
     "execution_count": 72,
     "metadata": {},
     "output_type": "execute_result"
    }
   ],
   "source": [
    "birth_year, birth_month, birth_day = map(int, input('생일 입력> ').split())\n",
    "birth_year, birth_month, birth_day"
   ]
  },
  {
   "cell_type": "code",
   "execution_count": 73,
   "metadata": {},
   "outputs": [
    {
     "name": "stdout",
     "output_type": "stream",
     "text": [
      "20\n"
     ]
    }
   ],
   "source": [
    "# 현재월 > 생월\n",
    "if current_month > birth_month:\n",
    "    age = current_year - birth_year\n",
    "\n",
    "# 현재월 < 생월\n",
    "elif current_month < birth_month:\n",
    "    age = current_year - birth_year - 1\n",
    "\n",
    "# 현재월 == 생월\n",
    "else:\n",
    "    \n",
    "    # 현재일 < 생일\n",
    "    if current_day < birth_day:\n",
    "        age = current_year - birth_year - 1\n",
    "    \n",
    "    # 현재일 >= 생일\n",
    "    else:\n",
    "        age = current_year - birth_year\n",
    "        \n",
    "print(age)"
   ]
  },
  {
   "cell_type": "code",
   "execution_count": 74,
   "metadata": {},
   "outputs": [
    {
     "name": "stdout",
     "output_type": "stream",
     "text": [
      "생일 6자리 숫자> 000430\n"
     ]
    },
    {
     "data": {
      "text/plain": [
       "(2000, 4, 30)"
      ]
     },
     "execution_count": 74,
     "metadata": {},
     "output_type": "execute_result"
    }
   ],
   "source": [
    "#생일 6자리 숫자로 받아서 처리하기\n",
    "birthday = input('생일 6자리 숫자> ')\n",
    "b_year = int(birthday[:2])\n",
    "if b_year <= 20:\n",
    "    b_year += 2000\n",
    "else:\n",
    "    b_year += 1900 \n",
    "b_month = int(birthday[2:4])\n",
    "b_day = int(birthday[4:])\n",
    "b_year, b_month, b_day"
   ]
  },
  {
   "cell_type": "code",
   "execution_count": 87,
   "metadata": {},
   "outputs": [
    {
     "name": "stdout",
     "output_type": "stream",
     "text": [
      "생일 (6, 7, 8자리 숫자)> 19840226\n",
      "1984 2 26\n"
     ]
    }
   ],
   "source": [
    "#생일 임의의 연속된 숫자로 받아서 처리하기\n",
    "birthday = input('생일 (6, 7, 8자리 숫자)> ')\n",
    "\n",
    "if len(birthday) == 6:\n",
    "    b_year = int(birthday[:2])\n",
    "    if b_year <= 20:\n",
    "        b_year += 2000\n",
    "    else:\n",
    "        b_year += 1900 \n",
    "    b_month = int(birthday[2:4])\n",
    "    b_day = int(birthday[4:])\n",
    "elif len(birthday) == 7:\n",
    "    b_year = int(birthday[:2])\n",
    "    if int(birthday[-1]) > 2:\n",
    "        b_year += 2000\n",
    "    else:\n",
    "        b_year += 1900 \n",
    "    b_month = int(birthday[2:4])\n",
    "    b_day = int(birthday[4:6])\n",
    "elif len(birthday) == 8:\n",
    "    b_year = int(birthday[:4])\n",
    "    b_month = int(birthday[4:6])\n",
    "    b_day = int(birthday[6:8])\n",
    "else:\n",
    "    print('6 ~ 8자리의 숫자를 입력하세요')\n",
    "    \n",
    "print(b_year, b_month, b_day)"
   ]
  },
  {
   "cell_type": "markdown",
   "metadata": {},
   "source": [
    "# 연습문제"
   ]
  },
  {
   "cell_type": "code",
   "execution_count": 86,
   "metadata": {},
   "outputs": [
    {
     "name": "stdout",
     "output_type": "stream",
     "text": [
      "월을 입력하세요: 1\n",
      "1월은 겨울입니다.\n"
     ]
    }
   ],
   "source": [
    "# if~ 구문으로 월을 입력받아 계절 표시하기\n",
    "month = int(input('월을 입력하세요: '))\n",
    "if month >= 3 and month <= 5:\n",
    "    print('%d월은 봄입니다.' % month)\n",
    "if month >= 6 and month <= 8:\n",
    "    print('%d월은 여름입니다.' % month)\n",
    "if month >= 9 and month <= 11:\n",
    "    print('%d월은 가을입니다.' % month)\n",
    "if month == 12 or month == 1 or month == 2:\n",
    "    print('%d월은 겨울입니다.' % month)"
   ]
  },
  {
   "cell_type": "code",
   "execution_count": 2,
   "metadata": {},
   "outputs": [
    {
     "name": "stdout",
     "output_type": "stream",
     "text": [
      "좌석 종류를 입력해 주세요(1:일반실, 2:특실): 2\n",
      "특실입니다.\n"
     ]
    }
   ],
   "source": [
    "# if~ 구문으로 숫자로 열차 좌석 판별하기\n",
    "a = input('좌석 종류를 입력해 주세요(1:일반실, 2:특실): ')\n",
    "\n",
    "seat1 = '일반실'\n",
    "seat2 = '특실'\n",
    "\n",
    "if a == '1':\n",
    "    print('%s입니다.' % seat1)\n",
    "    \n",
    "if a == '2':\n",
    "    print('%s입니다.' % seat2)"
   ]
  },
  {
   "cell_type": "code",
   "execution_count": null,
   "metadata": {},
   "outputs": [],
   "source": []
  },
  {
   "cell_type": "code",
   "execution_count": null,
   "metadata": {},
   "outputs": [],
   "source": []
  },
  {
   "cell_type": "code",
   "execution_count": null,
   "metadata": {},
   "outputs": [],
   "source": []
  },
  {
   "cell_type": "code",
   "execution_count": null,
   "metadata": {},
   "outputs": [],
   "source": []
  },
  {
   "cell_type": "code",
   "execution_count": null,
   "metadata": {},
   "outputs": [],
   "source": []
  },
  {
   "cell_type": "code",
   "execution_count": null,
   "metadata": {},
   "outputs": [],
   "source": []
  }
 ],
 "metadata": {
  "kernelspec": {
   "display_name": "Python 3",
   "language": "python",
   "name": "python3"
  },
  "language_info": {
   "codemirror_mode": {
    "name": "ipython",
    "version": 3
   },
   "file_extension": ".py",
   "mimetype": "text/x-python",
   "name": "python",
   "nbconvert_exporter": "python",
   "pygments_lexer": "ipython3",
   "version": "3.8.3"
  }
 },
 "nbformat": 4,
 "nbformat_minor": 4
}
