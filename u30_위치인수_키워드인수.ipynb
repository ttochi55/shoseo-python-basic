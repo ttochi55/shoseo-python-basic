{
 "metadata": {
  "language_info": {
   "codemirror_mode": {
    "name": "ipython",
    "version": 3
   },
   "file_extension": ".py",
   "mimetype": "text/x-python",
   "name": "python",
   "nbconvert_exporter": "python",
   "pygments_lexer": "ipython3",
   "version": "3.8.3-final"
  },
  "orig_nbformat": 2,
  "kernelspec": {
   "name": "Python 3.8.3 64-bit (conda)",
   "display_name": "Python 3.8.3 64-bit (conda)",
   "metadata": {
    "interpreter": {
     "hash": "b3ba2566441a7c06988d0923437866b63cedc61552a5af99d1f4fb67d367b25f"
    }
   }
  }
 },
 "nbformat": 4,
 "nbformat_minor": 2,
 "cells": [
  {
   "source": [
    "# Unit 30. 함수에서 위치 인수와 키워드 인수 사용하기"
   ],
   "cell_type": "markdown",
   "metadata": {}
  },
  {
   "source": [
    "### 위치 인수와 리스트 언패킹 사용하기\n",
    "\n",
    "- 위치인수: mandatory\n",
    "- 키워드인수: option"
   ],
   "cell_type": "markdown",
   "metadata": {}
  },
  {
   "source": [
    "### 위치 인수를 사용하는 함수를 만들고 호출하기"
   ],
   "cell_type": "markdown",
   "metadata": {}
  },
  {
   "cell_type": "code",
   "execution_count": 3,
   "metadata": {},
   "outputs": [],
   "source": [
    "def print_numbers(a, b, c):\n",
    "    print(a)\n",
    "    print(b)\n",
    "    print(c)"
   ]
  },
  {
   "cell_type": "code",
   "execution_count": 5,
   "metadata": {},
   "outputs": [
    {
     "output_type": "stream",
     "name": "stdout",
     "text": [
      "10\n20\n30\n"
     ]
    }
   ],
   "source": [
    "print_numbers(10, 20, 30)"
   ]
  },
  {
   "source": [
    "### 언패킹 사용하기\n",
    "\n",
    "즉, 리스트(튜플) 앞에 *를 붙이면 언패킹(unpacking)이 되어서 print_numbers(10, 20, 30)과 똑같은 동작이 됩니다. 말 그대로 리스트의 포장을 푼다는 뜻입니다."
   ],
   "cell_type": "markdown",
   "metadata": {}
  },
  {
   "cell_type": "code",
   "execution_count": 7,
   "metadata": {},
   "outputs": [
    {
     "output_type": "stream",
     "name": "stdout",
     "text": [
      "10\n20\n30\n"
     ]
    }
   ],
   "source": [
    "x = [10, 20, 30]\n",
    "print_numbers(*x)"
   ]
  },
  {
   "cell_type": "code",
   "execution_count": 9,
   "metadata": {},
   "outputs": [
    {
     "output_type": "stream",
     "name": "stdout",
     "text": [
      "10\n20\n30\n"
     ]
    }
   ],
   "source": [
    "print_numbers(*(10, 20, 30))"
   ]
  },
  {
   "source": [
    "### 가변 인수 함수 만들기"
   ],
   "cell_type": "markdown",
   "metadata": {}
  },
  {
   "cell_type": "code",
   "execution_count": 10,
   "metadata": {},
   "outputs": [],
   "source": [
    "def print_numbers(*args):\n",
    "    for arg in args:\n",
    "        print(arg)"
   ]
  },
  {
   "cell_type": "code",
   "execution_count": 11,
   "metadata": {},
   "outputs": [
    {
     "output_type": "stream",
     "name": "stdout",
     "text": [
      "10\n20\n30\n"
     ]
    }
   ],
   "source": [
    "print_numbers(10, 20, 30)"
   ]
  },
  {
   "cell_type": "code",
   "execution_count": 12,
   "metadata": {},
   "outputs": [
    {
     "output_type": "stream",
     "name": "stdout",
     "text": [
      "10\n20\n30\n40\n50\n"
     ]
    }
   ],
   "source": [
    "print_numbers(10, 20, 30, 40, 50)"
   ]
  },
  {
   "cell_type": "code",
   "execution_count": 13,
   "metadata": {},
   "outputs": [
    {
     "output_type": "stream",
     "name": "stdout",
     "text": [
      "10\n20\n30\n"
     ]
    }
   ],
   "source": [
    "x = [10, 20, 30]\n",
    "print_numbers(*x)"
   ]
  },
  {
   "source": [
    "### 고정 인수와 가변 인수를 함께 사용하기"
   ],
   "cell_type": "markdown",
   "metadata": {}
  },
  {
   "cell_type": "code",
   "execution_count": 14,
   "metadata": {},
   "outputs": [],
   "source": [
    "def print_numbers(a, *args):\n",
    "    print(a)\n",
    "    for arg in args:\n",
    "        print(arg)"
   ]
  },
  {
   "cell_type": "code",
   "execution_count": 15,
   "metadata": {},
   "outputs": [
    {
     "output_type": "stream",
     "name": "stdout",
     "text": [
      "10\n20\n30\n40\n50\n"
     ]
    }
   ],
   "source": [
    "print_numbers(10, 20, 30, 40, 50)"
   ]
  },
  {
   "source": [
    "### 키워드 인수 사용하기"
   ],
   "cell_type": "markdown",
   "metadata": {}
  },
  {
   "cell_type": "code",
   "execution_count": 16,
   "metadata": {},
   "outputs": [],
   "source": [
    "def personal_info(name, age, address):\n",
    "    print('이름: ', name)\n",
    "    print('나이: ', age)\n",
    "    print('주소: ', address)"
   ]
  },
  {
   "cell_type": "code",
   "execution_count": 17,
   "metadata": {},
   "outputs": [
    {
     "output_type": "stream",
     "name": "stdout",
     "text": [
      "이름:  홍길동\n나이:  30\n주소:  서울시 용산구 이촌동\n"
     ]
    }
   ],
   "source": [
    "personal_info('홍길동', 30, '서울시 용산구 이촌동')"
   ]
  },
  {
   "cell_type": "code",
   "execution_count": 18,
   "metadata": {},
   "outputs": [
    {
     "output_type": "stream",
     "name": "stdout",
     "text": [
      "이름:  홍길동\n나이:  30\n주소:  서울시 용산구 이촌동\n"
     ]
    }
   ],
   "source": [
    "personal_info(name='홍길동', age=30, address='서울시 용산구 이촌동')"
   ]
  },
  {
   "cell_type": "code",
   "execution_count": 34,
   "metadata": {},
   "outputs": [
    {
     "output_type": "stream",
     "name": "stdout",
     "text": [
      "age: 30\naddress: 서울시 용산구 이촌동\nname: 홍길동\n"
     ]
    }
   ],
   "source": [
    "personal_info(age=30, address='서울시 용산구 이촌동', name='홍길동')"
   ]
  },
  {
   "source": [
    "### 키워드 인수와 딕셔너리 언패킹 사용하기"
   ],
   "cell_type": "markdown",
   "metadata": {}
  },
  {
   "cell_type": "code",
   "execution_count": 23,
   "metadata": {},
   "outputs": [],
   "source": [
    "def personal_info(name, age, address):\n",
    "    print('이름: ', name)\n",
    "    print('나이: ', age)\n",
    "    print('주소: ', address)"
   ]
  },
  {
   "cell_type": "code",
   "execution_count": 24,
   "metadata": {},
   "outputs": [
    {
     "output_type": "stream",
     "name": "stdout",
     "text": [
      "이름:  홍길동\n나이:  30\n주소:  서울시 강서구 발산동\n"
     ]
    }
   ],
   "source": [
    "hong = {'name': '홍길동', 'age': 30, 'address': '서울시 강서구 발산동'}\n",
    "personal_info(**hong)"
   ]
  },
  {
   "source": [
    "### **를 두 번 사용하는 이유\n",
    "\n",
    "그런데 딕셔너리는 **처럼 *를 두 번 사용할까요? 왜냐하면 딕셔너리는 키-값 쌍 형태로 값이 저장되어 있기 때문입니다."
   ],
   "cell_type": "markdown",
   "metadata": {}
  },
  {
   "cell_type": "code",
   "execution_count": 27,
   "metadata": {},
   "outputs": [
    {
     "output_type": "stream",
     "name": "stdout",
     "text": [
      "이름:  name\n나이:  age\n주소:  address\n"
     ]
    }
   ],
   "source": [
    "hong = {'name': '홍길동', 'age': 30, 'address': '서울시 강서구 발산동'}\n",
    "personal_info(*hong)"
   ]
  },
  {
   "source": [
    "### 키워드 인수를 사용하는 가변 인수 함수 만들기"
   ],
   "cell_type": "markdown",
   "metadata": {}
  },
  {
   "cell_type": "code",
   "execution_count": 48,
   "metadata": {},
   "outputs": [],
   "source": [
    "# kwargs = Keyword Arguments\n",
    "def personal_info(**kwargs):\n",
    "    for kw, arg in kwargs.items():\n",
    "        print(kw, ': ', arg, sep='')"
   ]
  },
  {
   "cell_type": "code",
   "execution_count": 52,
   "metadata": {},
   "outputs": [
    {
     "output_type": "stream",
     "name": "stdout",
     "text": [
      "name: 홍길동\n"
     ]
    }
   ],
   "source": [
    "personal_info(name='홍길동')"
   ]
  },
  {
   "cell_type": "code",
   "execution_count": 51,
   "metadata": {},
   "outputs": [
    {
     "output_type": "stream",
     "name": "stdout",
     "text": [
      "name: 홍길동\nage: 30\naddress: 서울시 용산구 이촌동\n"
     ]
    }
   ],
   "source": [
    "personal_info(name='홍길동', age=30, address='서울시 용산구 이촌동')"
   ]
  },
  {
   "cell_type": "code",
   "execution_count": 50,
   "metadata": {},
   "outputs": [
    {
     "output_type": "stream",
     "name": "stdout",
     "text": [
      "name: 홍길동\nage: 30\nold: 30\naddress: 서울시 용산구 이촌동\n"
     ]
    }
   ],
   "source": [
    "personal_info(name='홍길동', age=30, old=30, address='서울시 용산구 이촌동')"
   ]
  },
  {
   "cell_type": "code",
   "execution_count": 49,
   "metadata": {},
   "outputs": [
    {
     "output_type": "stream",
     "name": "stdout",
     "text": [
      "name: 홍길동\nold: 30\naddress: 서울시 용산구 이촌동\n"
     ]
    }
   ],
   "source": [
    "personal_info(**{'name':'홍길동', 'old':30, 'address':'서울시 용산구 이촌동'})"
   ]
  },
  {
   "cell_type": "code",
   "execution_count": 54,
   "metadata": {},
   "outputs": [],
   "source": [
    "def personal_info(**kwargs):\n",
    "    if 'name' in kwargs:\n",
    "        print('이름: ', kwargs['name'])\n",
    "    if 'age' in kwargs:\n",
    "        print('나이: ', kwargs['age'])\n",
    "    if 'address' in kwargs:\n",
    "        print('주소: ', kwargs['address'])"
   ]
  },
  {
   "cell_type": "code",
   "execution_count": 55,
   "metadata": {},
   "outputs": [
    {
     "output_type": "stream",
     "name": "stdout",
     "text": [
      "이름:  홍길동\n주소:  서울시 용산구 이촌동\n"
     ]
    }
   ],
   "source": [
    "personal_info(**{'name':'홍길동', 'old':30, 'address':'서울시 용산구 이촌동'})"
   ]
  },
  {
   "source": [
    "### 고정 인수와 가변 인수(키워드 인수)를 함께 사용하기"
   ],
   "cell_type": "markdown",
   "metadata": {}
  },
  {
   "cell_type": "code",
   "execution_count": 56,
   "metadata": {},
   "outputs": [],
   "source": [
    "def personal_info(name, **kwargs):\n",
    "    print(name)\n",
    "    print(kwargs)"
   ]
  },
  {
   "cell_type": "code",
   "execution_count": 58,
   "metadata": {},
   "outputs": [
    {
     "output_type": "stream",
     "name": "stdout",
     "text": [
      "홍길동\n{'age': 30, 'address': '서울시 강서구 발산동'}\n"
     ]
    }
   ],
   "source": [
    "personal_info('홍길동', age=30, address='서울시 강서구 발산동')"
   ]
  },
  {
   "source": [
    "### 위치 인수와 키워드 인수를 함께 사용하기"
   ],
   "cell_type": "markdown",
   "metadata": {}
  },
  {
   "cell_type": "code",
   "execution_count": 60,
   "metadata": {},
   "outputs": [],
   "source": [
    "def custom_print(*args, **kwargs):\n",
    "    print(*args, **kwargs)"
   ]
  },
  {
   "cell_type": "code",
   "execution_count": 62,
   "metadata": {},
   "outputs": [
    {
     "output_type": "stream",
     "name": "stdout",
     "text": [
      "1:2:3END\n"
     ]
    }
   ],
   "source": [
    "custom_print(1, 2, 3, sep=':', end='END\\n')"
   ]
  },
  {
   "cell_type": "code",
   "execution_count": 63,
   "metadata": {},
   "outputs": [
    {
     "output_type": "stream",
     "name": "stdout",
     "text": [
      "1 2 3 4\n"
     ]
    }
   ],
   "source": [
    "custom_print(1, 2, 3, 4)"
   ]
  },
  {
   "source": [
    "### 고정인수, 가변 위치인수, 키워드인수 함께 사용하기"
   ],
   "cell_type": "markdown",
   "metadata": {}
  },
  {
   "cell_type": "code",
   "execution_count": 66,
   "metadata": {},
   "outputs": [],
   "source": [
    "def custom_print(a, b, *args, **kwargs):\n",
    "    print(a, b, *args, **kwargs)"
   ]
  },
  {
   "cell_type": "code",
   "execution_count": 70,
   "metadata": {},
   "outputs": [
    {
     "output_type": "stream",
     "name": "stdout",
     "text": [
      "1\t2\t3\t4END\n"
     ]
    }
   ],
   "source": [
    "custom_print(1, 2, 3, 4, sep='\\t', end='END\\n')"
   ]
  },
  {
   "source": [
    "### 매개변수에 초깃값 지정하기 (Default value)"
   ],
   "cell_type": "markdown",
   "metadata": {}
  },
  {
   "cell_type": "code",
   "execution_count": 72,
   "metadata": {},
   "outputs": [],
   "source": [
    "def personal_info(name, age, address='비공개'):\n",
    "    print('이름: ', name)\n",
    "    print('나이: ', age)\n",
    "    print('주소: ', address)"
   ]
  },
  {
   "cell_type": "code",
   "execution_count": 73,
   "metadata": {},
   "outputs": [
    {
     "output_type": "stream",
     "name": "stdout",
     "text": [
      "이름:  홍길동\n나이:  30\n주소:  비공개\n"
     ]
    }
   ],
   "source": [
    "personal_info('홍길동', 30)"
   ]
  },
  {
   "cell_type": "code",
   "execution_count": 74,
   "metadata": {},
   "outputs": [
    {
     "output_type": "stream",
     "name": "stdout",
     "text": [
      "이름:  홍길동\n나이:  30\n주소:  서울시 강서구 발산동\n"
     ]
    }
   ],
   "source": [
    "personal_info('홍길동', 30, '서울시 강서구 발산동')"
   ]
  },
  {
   "source": [
    "초깃값이 지정된 매개변수 다음에는 초깃값이 없는 매개변수가 올 수 없습니다."
   ],
   "cell_type": "markdown",
   "metadata": {}
  },
  {
   "cell_type": "code",
   "execution_count": 76,
   "metadata": {},
   "outputs": [
    {
     "output_type": "error",
     "ename": "SyntaxError",
     "evalue": "non-default argument follows default argument (<ipython-input-76-b14afe4a2746>, line 1)",
     "traceback": [
      "\u001b[1;36m  File \u001b[1;32m\"<ipython-input-76-b14afe4a2746>\"\u001b[1;36m, line \u001b[1;32m1\u001b[0m\n\u001b[1;33m    def personal_info(name, address='비공개', age):\u001b[0m\n\u001b[1;37m                      ^\u001b[0m\n\u001b[1;31mSyntaxError\u001b[0m\u001b[1;31m:\u001b[0m non-default argument follows default argument\n"
     ]
    }
   ],
   "source": [
    "def personal_info(name, address='비공개', age):\n",
    "    print('이름: ', name)\n",
    "    print('나이: ', age)\n",
    "    print('주소: ', address)"
   ]
  },
  {
   "cell_type": "code",
   "execution_count": 78,
   "metadata": {},
   "outputs": [],
   "source": [
    "def personal_info(name, address='비공개', age=0):\n",
    "    print('이름: ', name)\n",
    "    print('나이: ', age)\n",
    "    print('주소: ', address)"
   ]
  },
  {
   "source": [
    "### 30.6 연습문제: 가장 높은 점수를 구하는 함수 만들기"
   ],
   "cell_type": "markdown",
   "metadata": {}
  },
  {
   "cell_type": "code",
   "execution_count": 80,
   "metadata": {},
   "outputs": [
    {
     "output_type": "stream",
     "name": "stdout",
     "text": [
      "높은 점수: 100\n높은 점수: 91\n"
     ]
    }
   ],
   "source": [
    "korean, english, mathematics, science = 100, 86, 81, 91\n",
    "\n",
    "def get_max_score(*args):\n",
    "    return max(args)\n",
    "\n",
    "max_score = get_max_score(korean, english, mathematics, science)\n",
    "print('높은 점수:', max_score)\n",
    " \n",
    "max_score = get_max_score(english, science)\n",
    "print('높은 점수:', max_score)"
   ]
  },
  {
   "source": [
    "### 30.7 심사문제: 가장 낮은 점수, 높은 점수와 평균 점수를 구하는 함수 만들기\n",
    "\n",
    "표준 입력으로 국어, 영어, 수학, 과학 점수가 입력됩니다. 다음 소스 코드를 완성하여 가장 높은 점수, 가장 낮은 점수, 평균 점수가 출력되게 만드세요. 평균 점수는 실수로 출력되어야 합니다."
   ],
   "cell_type": "markdown",
   "metadata": {}
  },
  {
   "cell_type": "code",
   "execution_count": 88,
   "metadata": {},
   "outputs": [],
   "source": [
    "korean, english, mathematics, science = map(int, input().split())"
   ]
  },
  {
   "cell_type": "code",
   "execution_count": 26,
   "metadata": {},
   "outputs": [
    {
     "output_type": "stream",
     "name": "stdout",
     "text": [
      "76.0 89.0\n"
     ]
    }
   ],
   "source": [
    "korean, english, mathematics, science = 76, 82, 89, 84\n",
    "\n",
    "def get_min_max_score(*args):\n",
    "    return float(min(args)), float(max(args))\n",
    "\n",
    "min_score, max_score = get_min_max_score(korean, english, mathematics, science)\n",
    "print(min_score, max_score)"
   ]
  },
  {
   "cell_type": "code",
   "execution_count": 14,
   "metadata": {},
   "outputs": [
    {
     "output_type": "stream",
     "name": "stdout",
     "text": [
      "82.75\n"
     ]
    }
   ],
   "source": [
    "korean, english, mathematics, science = 76, 82, 89, 84\n",
    "\n",
    "def get_average(**kwargs):\n",
    "    el = []\n",
    "    for k, v in kwargs.items():\n",
    "        el.append(v)\n",
    "    return sum(el) / len(el)\n",
    "\n",
    "average_score = get_average(korean=korean, english=english, mathematics=mathematics, science=science)\n",
    "print( average_score )"
   ]
  },
  {
   "cell_type": "code",
   "execution_count": 27,
   "metadata": {},
   "outputs": [
    {
     "output_type": "stream",
     "name": "stdout",
     "text": [
      "낮은 점수: 76.0, 높은 점수: 89.0, 평균 점수: 82.75\n"
     ]
    }
   ],
   "source": [
    "print(f'낮은 점수: {min_score}, 높은 점수: {max_score}, 평균 점수: {average_score}')"
   ]
  },
  {
   "cell_type": "code",
   "execution_count": 28,
   "metadata": {},
   "outputs": [
    {
     "output_type": "stream",
     "name": "stdout",
     "text": [
      "낮은 점수: 76.00, 높은 점수: 89.00, 평균 점수: 82.75\n"
     ]
    }
   ],
   "source": [
    "print('낮은 점수: {0:.2f}, 높은 점수: {1:.2f}, 평균 점수: {2:.2f}'.format(min_score, max_score, average_score))"
   ]
  },
  {
   "source": [
    "### 재귀호출 사용하기"
   ],
   "cell_type": "markdown",
   "metadata": {}
  },
  {
   "cell_type": "code",
   "execution_count": 108,
   "metadata": {},
   "outputs": [],
   "source": [
    "def factorial(n):\n",
    "    if n == 0:\n",
    "        return 1\n",
    "    return n * factorial(n-1)"
   ]
  },
  {
   "cell_type": "code",
   "execution_count": 115,
   "metadata": {},
   "outputs": [
    {
     "output_type": "execute_result",
     "data": {
      "text/plain": [
       "24"
      ]
     },
     "metadata": {},
     "execution_count": 115
    }
   ],
   "source": [
    "factorial(4)"
   ]
  },
  {
   "cell_type": "code",
   "execution_count": 110,
   "metadata": {},
   "outputs": [],
   "source": [
    "def fibo(n):\n",
    "    if n == 0 or n == 1:\n",
    "        return 1\n",
    "    return fibo(n-1) + fibo(n-2)"
   ]
  },
  {
   "cell_type": "code",
   "execution_count": 112,
   "metadata": {},
   "outputs": [
    {
     "output_type": "stream",
     "name": "stdout",
     "text": [
      "1 1\n2 2\n3 3\n4 5\n5 8\n6 13\n7 21\n8 34\n9 55\n10 89\n"
     ]
    }
   ],
   "source": [
    "for i in range(1, 11):\n",
    "    print(i, fibo(i))"
   ]
  },
  {
   "cell_type": "code",
   "execution_count": 113,
   "metadata": {},
   "outputs": [],
   "source": [
    "# An = 3An-1 + 5An-2\n",
    "#단 A1 = 1, A0 = 0\n",
    "\n",
    "def series(n):\n",
    "    if n == 0:\n",
    "        return 0\n",
    "    if n == 1:\n",
    "        return 1\n",
    "    return 3 * series(n-1) + 5 * series(n-2)"
   ]
  },
  {
   "cell_type": "code",
   "execution_count": 114,
   "metadata": {},
   "outputs": [
    {
     "output_type": "stream",
     "name": "stdout",
     "text": [
      "1 1\n2 3\n3 14\n4 57\n5 241\n6 1008\n7 4229\n8 17727\n9 74326\n10 311613\n"
     ]
    }
   ],
   "source": [
    "for i in range(1, 11):\n",
    "    print(i, series(i))"
   ]
  },
  {
   "source": [
    "### 31.4 연습문제: 재귀호출로 회문 판별하기"
   ],
   "cell_type": "markdown",
   "metadata": {}
  },
  {
   "cell_type": "code",
   "execution_count": 117,
   "metadata": {},
   "outputs": [
    {
     "output_type": "stream",
     "name": "stdout",
     "text": [
      "False\nTrue\n"
     ]
    }
   ],
   "source": [
    "def is_palindrome(word):\n",
    "    if len(word) < 2 :\n",
    "        return True\n",
    "    if word[0] != word[-1]:\n",
    "        return False\n",
    "    return is_palindrome(word[1:-1])\n",
    "print(is_palindrome('hello'))\n",
    "print(is_palindrome('level'))"
   ]
  },
  {
   "source": [
    "### 31.5 심사문제: 재귀호출로 피보나치 수 구하기\n",
    "\n",
    "표준 입력으로 정수 한 개가 입력됩니다(입력 값의 범위는 10~30). 다음 소스 코드를 완성하여 입력된 정수에 해당하는 피보나치 수가 출력되게 만드세요.\n",
    "\n",
    "피보나치 수는 0과 1로 시작하며, 다음 번 피보나치 수는 바로 앞의 두 피보나치 수의 합입니다."
   ],
   "cell_type": "markdown",
   "metadata": {}
  },
  {
   "cell_type": "code",
   "execution_count": null,
   "metadata": {},
   "outputs": [],
   "source": [
    "def fib(n):\n",
    "    if n < 2:\n",
    "        return n\n",
    "    else:\n",
    "        return fib(n-1) + fibo(n-2)\n",
    "\n",
    "n = 20\n",
    "print(fib(n))\n",
    "\n",
    "# for i in range(1, n):\n",
    "#     print(i, fib(i))"
   ]
  }
 ]
}