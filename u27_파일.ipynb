{
 "metadata": {
  "language_info": {
   "codemirror_mode": {
    "name": "ipython",
    "version": 3
   },
   "file_extension": ".py",
   "mimetype": "text/x-python",
   "name": "python",
   "nbconvert_exporter": "python",
   "pygments_lexer": "ipython3",
   "version": "3.8.3-final"
  },
  "orig_nbformat": 2,
  "kernelspec": {
   "name": "Python 3.8.3 64-bit (conda)",
   "display_name": "Python 3.8.3 64-bit (conda)",
   "metadata": {
    "interpreter": {
     "hash": "b3ba2566441a7c06988d0923437866b63cedc61552a5af99d1f4fb67d367b25f"
    }
   }
  }
 },
 "nbformat": 4,
 "nbformat_minor": 2,
 "cells": [
  {
   "source": [
    "# Unit 27. 파일 사용하기"
   ],
   "cell_type": "markdown",
   "metadata": {}
  },
  {
   "source": [
    "### 파일에 문자열 쓰기"
   ],
   "cell_type": "markdown",
   "metadata": {}
  },
  {
   "cell_type": "code",
   "execution_count": 2,
   "metadata": {},
   "outputs": [],
   "source": [
    "# hello.txt 파일을 쓰기 모드(w)로 열기. 파일 객체 반환\n",
    "file = open('hello.txt', 'w')\n",
    "\n",
    "# 파일에 문자열 저장\n",
    "file.write('Hello, world!')\n",
    "\n",
    "# 파일 객체 닫기\n",
    "file.close()"
   ]
  },
  {
   "source": [
    "### 파일에서 문자열 읽기"
   ],
   "cell_type": "markdown",
   "metadata": {}
  },
  {
   "cell_type": "code",
   "execution_count": 4,
   "metadata": {},
   "outputs": [
    {
     "output_type": "stream",
     "name": "stdout",
     "text": [
      "Hello, world!\n"
     ]
    }
   ],
   "source": [
    "# hello.txt 파일을 읽기 모드(r)로 열기. 파일 객체 반환\n",
    "file = open('hello.txt', 'r')\n",
    "\n",
    "# 파일에서 문자열 읽기\n",
    "s = file.read()\n",
    "\n",
    "# Hello, world!\n",
    "print(s)\n",
    "\n",
    "# 파일 객체 닫기\n",
    "file.close()"
   ]
  },
  {
   "source": [
    "### 자동으로 파일 객체 닫기"
   ],
   "cell_type": "markdown",
   "metadata": {}
  },
  {
   "cell_type": "code",
   "execution_count": 7,
   "metadata": {},
   "outputs": [
    {
     "output_type": "stream",
     "name": "stdout",
     "text": [
      "Hello, world!\n"
     ]
    }
   ],
   "source": [
    "# hello.txt 파일을 읽기 모드(r)로 열기\n",
    "with open('hello.txt', 'r') as file:\n",
    "\n",
    "    # 파일에서 문자열 읽기\n",
    "    s = file.read()\n",
    "    \n",
    "    # Hello, world!\n",
    "    print(s)"
   ]
  },
  {
   "source": [
    "### 반복문으로 문자열 여러 줄을 파일에 쓰기"
   ],
   "cell_type": "markdown",
   "metadata": {}
  },
  {
   "cell_type": "code",
   "execution_count": 9,
   "metadata": {},
   "outputs": [],
   "source": [
    "with open('hello.txt', 'w') as file:\n",
    "    for i in range(3):\n",
    "        file.write('Hello, world! {0}\\n'.format(i))"
   ]
  },
  {
   "cell_type": "code",
   "execution_count": 12,
   "metadata": {},
   "outputs": [],
   "source": [
    "with open('hello.txt', 'w') as file:\n",
    "    for i in range(3):\n",
    "        file.write(f'Hello, world! {i+1}\\n')"
   ]
  },
  {
   "source": [
    "### 리스트에 들어있는 문자열을 파일에 쓰기"
   ],
   "cell_type": "markdown",
   "metadata": {}
  },
  {
   "cell_type": "code",
   "execution_count": 15,
   "metadata": {},
   "outputs": [],
   "source": [
    "lines = ['안녕하세요.\\n', '파이썬\\n', '코딩 도장입니다.\\n']\n",
    "# hello.txt 파일을 쓰기 모드(w)로 열기\n",
    "with open('hello.txt', 'w', encoding='utf-8') as file:\n",
    "    file.writelines(lines)"
   ]
  },
  {
   "cell_type": "code",
   "execution_count": 17,
   "metadata": {},
   "outputs": [
    {
     "output_type": "error",
     "ename": "TypeError",
     "evalue": "write() argument must be str, not list",
     "traceback": [
      "\u001b[1;31m---------------------------------------------------------------------------\u001b[0m",
      "\u001b[1;31mTypeError\u001b[0m                                 Traceback (most recent call last)",
      "\u001b[1;32m<ipython-input-17-bd58845f3cb2>\u001b[0m in \u001b[0;36m<module>\u001b[1;34m\u001b[0m\n\u001b[0;32m      2\u001b[0m \u001b[1;31m# hello.txt 파일을 쓰기 모드(w)로 열기\u001b[0m\u001b[1;33m\u001b[0m\u001b[1;33m\u001b[0m\u001b[1;33m\u001b[0m\u001b[0m\n\u001b[0;32m      3\u001b[0m \u001b[1;32mwith\u001b[0m \u001b[0mopen\u001b[0m\u001b[1;33m(\u001b[0m\u001b[1;34m'hello.txt'\u001b[0m\u001b[1;33m,\u001b[0m \u001b[1;34m'w'\u001b[0m\u001b[1;33m)\u001b[0m \u001b[1;32mas\u001b[0m \u001b[0mfile\u001b[0m\u001b[1;33m:\u001b[0m\u001b[1;33m\u001b[0m\u001b[1;33m\u001b[0m\u001b[0m\n\u001b[1;32m----> 4\u001b[1;33m     \u001b[0mfile\u001b[0m\u001b[1;33m.\u001b[0m\u001b[0mwrite\u001b[0m\u001b[1;33m(\u001b[0m\u001b[0mlines\u001b[0m\u001b[1;33m)\u001b[0m\u001b[1;33m\u001b[0m\u001b[1;33m\u001b[0m\u001b[0m\n\u001b[0m",
      "\u001b[1;31mTypeError\u001b[0m: write() argument must be str, not list"
     ]
    }
   ],
   "source": [
    "lines = ['안녕하세요.\\n', '파이썬\\n', '코딩 도장입니다.\\n']\n",
    "# hello.txt 파일을 쓰기 모드(w)로 열기\n",
    "with open('hello.txt', 'w', encoding='utf-8') as file:\n",
    "    file.write(lines)"
   ]
  },
  {
   "cell_type": "code",
   "execution_count": 21,
   "metadata": {},
   "outputs": [],
   "source": [
    "lines = ['안녕하세요.\\n', '파이썬\\n', '코딩 도장입니다.\\n']\n",
    "lines = ''.join(lines)\n",
    "f = open('hello.txt', 'w', encoding='utf-8')\n",
    "f.write(lines)\n",
    "f.close()"
   ]
  },
  {
   "source": [
    "### 파일의 내용을 한 줄씩 리스트로 가져오기"
   ],
   "cell_type": "markdown",
   "metadata": {}
  },
  {
   "cell_type": "code",
   "execution_count": 27,
   "metadata": {},
   "outputs": [
    {
     "output_type": "stream",
     "name": "stdout",
     "text": [
      "안녕하세요.\n파이썬\n코딩 도장입니다.\n\n"
     ]
    }
   ],
   "source": [
    "f = open('hello.txt', 'r', encoding='utf-8')\n",
    "s = f.read()\n",
    "print(s)\n",
    "f.close()"
   ]
  },
  {
   "cell_type": "code",
   "execution_count": 34,
   "metadata": {},
   "outputs": [
    {
     "output_type": "stream",
     "name": "stdout",
     "text": [
      "['안녕하세요.\\n', '파이썬\\n', '코딩 도장입니다.\\n']\n"
     ]
    }
   ],
   "source": [
    "f = open('hello.txt', 'r', encoding='utf-8')\n",
    "s = f.readlines()\n",
    "print(s)\n",
    "f.close()"
   ]
  },
  {
   "cell_type": "code",
   "execution_count": 33,
   "metadata": {},
   "outputs": [
    {
     "output_type": "stream",
     "name": "stdout",
     "text": [
      "['안녕하세요.\\n', '파이썬\\n', '코딩 도장입니다.\\n']\n"
     ]
    }
   ],
   "source": [
    "with open('hello.txt', 'r', encoding='utf-8') as file:\n",
    "    lines = file.readlines()\n",
    "    print(lines)"
   ]
  },
  {
   "source": [
    "### 파일의 내용을 한줄씩 읽기"
   ],
   "cell_type": "markdown",
   "metadata": {}
  },
  {
   "cell_type": "code",
   "execution_count": 2,
   "metadata": {},
   "outputs": [
    {
     "output_type": "stream",
     "name": "stdout",
     "text": [
      "안녕하세요.\n파이썬\n코딩 도장입니다.\n\n"
     ]
    }
   ],
   "source": [
    "# hello.txt 파일을 읽기 모드(r)로 열기\n",
    "with open('hello.txt', 'r', encoding='utf-8') as file:\n",
    "    # 변수 line을 None으로 초기화\n",
    "    line = None\n",
    "    while line != '':\n",
    "        line = file.readline()\n",
    "        # 파일에서 읽어온 문자열에서 \\n 삭제하여 출력\n",
    "        print(line.strip('\\n'))"
   ]
  },
  {
   "cell_type": "code",
   "execution_count": 3,
   "metadata": {
    "tags": []
   },
   "outputs": [
    {
     "output_type": "stream",
     "name": "stdout",
     "text": [
      "안녕하세요.\n파이썬\n코딩 도장입니다.\n\n"
     ]
    }
   ],
   "source": [
    "f = open('hello.txt', 'r', encoding='utf-8')\n",
    "s = None\n",
    "while s != '':\n",
    "    s = f.readline()\n",
    "    print(s.strip('\\n'))\n",
    "f.close()"
   ]
  },
  {
   "source": [
    "### for 반복문으로 파일의 내용을 줄 단위로 읽기"
   ],
   "cell_type": "markdown",
   "metadata": {}
  },
  {
   "cell_type": "code",
   "execution_count": 6,
   "metadata": {},
   "outputs": [
    {
     "output_type": "stream",
     "name": "stdout",
     "text": [
      "안녕하세요.\n파이썬\n코딩 도장입니다.\n"
     ]
    }
   ],
   "source": [
    "with open('hello.txt', 'r', encoding='utf-8') as file:\n",
    "    for line in file:\n",
    "        print(line.strip('\\n'))"
   ]
  },
  {
   "cell_type": "code",
   "execution_count": 7,
   "metadata": {},
   "outputs": [
    {
     "output_type": "stream",
     "name": "stdout",
     "text": [
      "안녕하세요.\n파이썬\n코딩 도장입니다.\n"
     ]
    }
   ],
   "source": [
    "f = open('hello.txt', 'r', encoding='utf-8')\n",
    "for s in f:\n",
    "    print(s.strip('\\n'))\n",
    "f.close()"
   ]
  },
  {
   "source": [
    "### 파이썬 객체를 파일에 저장하기"
   ],
   "cell_type": "markdown",
   "metadata": {}
  },
  {
   "cell_type": "code",
   "execution_count": 11,
   "metadata": {},
   "outputs": [],
   "source": [
    "import pickle\n",
    "\n",
    "name = 'james'\n",
    "age = 17\n",
    "address = '서울시 서초구 반포동'\n",
    "scores = {'korean': 90, 'english': 95, 'mathematics': 85, 'science': 82}\n",
    "\n",
    "# james.p 파일을 바이너리(컴퓨터읽기전용-2진수) 쓰기 모드(wb)로 열기\n",
    "f = open('james.p', 'wb')\n",
    "pickle.dump(name, f)\n",
    "pickle.dump(age, f)\n",
    "pickle.dump(address, f)\n",
    "pickle.dump(scores, f)\n",
    "f.close()"
   ]
  },
  {
   "cell_type": "code",
   "execution_count": 13,
   "metadata": {},
   "outputs": [],
   "source": [
    "import pickle\n",
    "\n",
    "name = 'james'\n",
    "age = 17\n",
    "address = '서울시 서초구 반포동'\n",
    "scores = {'korean': 90, 'english': 95, 'mathematics': 85, 'science': 82}\n",
    "\n",
    "# james.p 파일을 바이너리(컴퓨터읽기전용-2진수) 쓰기 모드(wb)로 열기\n",
    "with open('james.p', 'wb') as f:\n",
    "    pickle.dump(name, f)\n",
    "    pickle.dump(age, f)\n",
    "    pickle.dump(address, f)\n",
    "    pickle.dump(scores, f)"
   ]
  },
  {
   "source": [
    "### 파일에서 파이썬 객체 읽기"
   ],
   "cell_type": "markdown",
   "metadata": {}
  },
  {
   "cell_type": "code",
   "execution_count": 14,
   "metadata": {},
   "outputs": [
    {
     "output_type": "stream",
     "name": "stdout",
     "text": [
      "james\n17\n서울시 서초구 반포동\n{'korean': 90, 'english': 95, 'mathematics': 85, 'science': 82}\n"
     ]
    }
   ],
   "source": [
    "import pickle\n",
    "\n",
    "with open('james.p', 'rb') as f:\n",
    "    name = pickle.load(f)\n",
    "    age = pickle.load(f)\n",
    "    address = pickle.load(f)\n",
    "    scores = pickle.load(f)\n",
    "    print(name)\n",
    "    print(age)\n",
    "    print(address)\n",
    "    print(scores)"
   ]
  },
  {
   "cell_type": "code",
   "execution_count": 17,
   "metadata": {},
   "outputs": [
    {
     "output_type": "stream",
     "name": "stdout",
     "text": [
      "{'name': 'james', 'age': 17, 'address': '서울시 서초구 반포동', 'scores': {'korean': 90, 'english': 95, 'mathematics': 85, 'science': 82}}\n"
     ]
    }
   ],
   "source": [
    "import pickle\n",
    "\n",
    "james_p = {\n",
    "    'name': 'james',\n",
    "    'age': 17,\n",
    "    'address': '서울시 서초구 반포동',\n",
    "    'scores': {'korean': 90, 'english': 95, 'mathematics': 85, 'science': 82},\n",
    "}\n",
    "with open('james.p', 'wb') as f:\n",
    "    pickle.dump(james_p, f)\n",
    "\n",
    "with open('james.p', 'rb') as f:\n",
    "    james_p = pickle.load(f)\n",
    "    print(james_p)"
   ]
  },
  {
   "source": [
    "### 27.5 연습문제: 파일에서 10자 이하인 단어 개수 세기"
   ],
   "cell_type": "markdown",
   "metadata": {}
  },
  {
   "cell_type": "code",
   "execution_count": 32,
   "metadata": {},
   "outputs": [
    {
     "output_type": "stream",
     "name": "stdout",
     "text": [
      "['dashboard', 'experience', 'spotlight', 'warehouse']\n"
     ]
    }
   ],
   "source": [
    "l = []\n",
    "with open('words.txt', 'r') as f:\n",
    "    l = [s.strip('\\n') for s in f if len(s.strip('\\n')) <= 10]\n",
    "print(l)"
   ]
  },
  {
   "cell_type": "code",
   "execution_count": 47,
   "metadata": {},
   "outputs": [
    {
     "output_type": "stream",
     "name": "stdout",
     "text": [
      "dashboard: 1\nexperience: 2\nspotlight: 3\nwarehouse: 4\n"
     ]
    }
   ],
   "source": [
    "with open('words.txt', 'r') as f:\n",
    "    count = 0\n",
    "    words = f.readlines()\n",
    "    for word in words:\n",
    "        strip_word = word.strip('\\n')\n",
    "        if len(strip_word) <= 10:\n",
    "            count += 1\n",
    "            print(strip_word, count, sep=': ')"
   ]
  },
  {
   "source": [
    "### 27.6 심사문제: 특정 문자가 들어있는 단어 찾기\n",
    "\n",
    "문자열이 저장된 words.txt 파일이 주어집니다(문자열은 한 줄로 저장되어 있습니다). words.txt 파일에서 문자 c가 포함된 단어를 각 줄에 출력하는 프로그램을 만드세요. 단어를 출력할 때는 등장한 순서대로 출력해야 하며 ,(콤마)와 .(점)은 출력하지 않아야 합니다."
   ],
   "cell_type": "markdown",
   "metadata": {}
  },
  {
   "cell_type": "code",
   "execution_count": 88,
   "metadata": {
    "tags": []
   },
   "outputs": [
    {
     "output_type": "stream",
     "name": "stdout",
     "text": [
      "dictator\nsubjects\nchange\ncostume\nelegance\naccepted\n"
     ]
    }
   ],
   "source": [
    "import re\n",
    "import string\n",
    "\n",
    "with open('words-276.txt', 'r') as file:\n",
    "    text = file.read()\n",
    "    text = re.sub(f'[{string.punctuation}0-9]', '', text, flags=re.MULTILINE)\n",
    "    text = text.lower().strip(',.')\n",
    "    words = text.split()\n",
    "    for word in words:\n",
    "        if bool(re.search('c', word)) == True:\n",
    "            print(word)"
   ]
  },
  {
   "source": [
    "### JSON 형태로 변환/복원"
   ],
   "cell_type": "markdown",
   "metadata": {}
  },
  {
   "cell_type": "code",
   "execution_count": 81,
   "metadata": {},
   "outputs": [
    {
     "output_type": "stream",
     "name": "stdout",
     "text": [
      "{\"name\": \"james\", \"age\": 17, \"address\": \"\\uc11c\\uc6b8\\uc2dc \\uc11c\\ucd08\\uad6c \\ubc18\\ud3ec\\ub3d9\", \"scores\": {\"korean\": 90, \"english\": 95, \"mathematics\": 85, \"science\": 82}}\n"
     ]
    }
   ],
   "source": [
    "import json\n",
    "james_json = json.dumps(james_p)\n",
    "print(james_json)"
   ]
  },
  {
   "cell_type": "code",
   "execution_count": 82,
   "metadata": {},
   "outputs": [],
   "source": [
    "with open('hello.txt', 'w') as file:\n",
    "    file.write(james_json)"
   ]
  },
  {
   "cell_type": "code",
   "execution_count": 84,
   "metadata": {},
   "outputs": [
    {
     "output_type": "stream",
     "name": "stdout",
     "text": [
      "{\"name\": \"james\", \"age\": 17, \"address\": \"\\uc11c\\uc6b8\\uc2dc \\uc11c\\ucd08\\uad6c \\ubc18\\ud3ec\\ub3d9\", \"scores\": {\"korean\": 90, \"english\": 95, \"mathematics\": 85, \"science\": 82}}\n"
     ]
    }
   ],
   "source": [
    "with open('hello.txt', 'r') as file:\n",
    "    james_str = file.read()\n",
    "print(james_str)"
   ]
  },
  {
   "cell_type": "code",
   "execution_count": 85,
   "metadata": {},
   "outputs": [
    {
     "output_type": "stream",
     "name": "stdout",
     "text": [
      "{'name': 'james', 'age': 17, 'address': '서울시 서초구 반포동', 'scores': {'korean': 90, 'english': 95, 'mathematics': 85, 'science': 82}}\n"
     ]
    }
   ],
   "source": [
    "james = json.loads(james_str)\n",
    "print(james)"
   ]
  },
  {
   "cell_type": "code",
   "execution_count": null,
   "metadata": {},
   "outputs": [],
   "source": []
  }
 ]
}