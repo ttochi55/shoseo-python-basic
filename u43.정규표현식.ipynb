{
 "metadata": {
  "language_info": {
   "codemirror_mode": {
    "name": "ipython",
    "version": 3
   },
   "file_extension": ".py",
   "mimetype": "text/x-python",
   "name": "python",
   "nbconvert_exporter": "python",
   "pygments_lexer": "ipython3",
   "version": "3.8.3-final"
  },
  "orig_nbformat": 2,
  "kernelspec": {
   "name": "Python 3.8.3 64-bit (conda)",
   "display_name": "Python 3.8.3 64-bit (conda)",
   "metadata": {
    "interpreter": {
     "hash": "b3ba2566441a7c06988d0923437866b63cedc61552a5af99d1f4fb67d367b25f"
    }
   }
  }
 },
 "nbformat": 4,
 "nbformat_minor": 2,
 "cells": [
  {
   "source": [
    "# Unit 43. 정규표현식 사용하기\n",
    "\n",
    "정규표현식(regular expression)은 일정한 규칙(패턴)을 가진 문자열을 표현하는 방법입니다. "
   ],
   "cell_type": "markdown",
   "metadata": {}
  },
  {
   "source": [
    "### 43.1 문자열 판단하기"
   ],
   "cell_type": "markdown",
   "metadata": {}
  },
  {
   "cell_type": "code",
   "execution_count": 2,
   "metadata": {},
   "outputs": [
    {
     "output_type": "execute_result",
     "data": {
      "text/plain": [
       "<re.Match object; span=(0, 5), match='Hello'>"
      ]
     },
     "metadata": {},
     "execution_count": 2
    }
   ],
   "source": [
    "import re\n",
    "# 찾는 패턴, 찾을려는 문자열\n",
    "re.match('Hello', 'Hello, world!')"
   ]
  },
  {
   "cell_type": "code",
   "execution_count": 5,
   "metadata": {},
   "outputs": [],
   "source": [
    "re.match('Python', 'Hello, world!')"
   ]
  },
  {
   "cell_type": "code",
   "execution_count": 6,
   "metadata": {},
   "outputs": [
    {
     "output_type": "stream",
     "name": "stdout",
     "text": [
      "'Hello'가 있습니다.\n"
     ]
    }
   ],
   "source": [
    "if re.match('Hello', 'Hello, world!'):\n",
    "    print(\"'Hello'가 있습니다.\")\n",
    "else:\n",
    "    print(\"'Hello'가 없습니다.\")"
   ]
  },
  {
   "source": [
    "### 43.1.1  문자열이 맨 앞에 오는지 맨 뒤에 오는지 판단하기\n",
    "\n",
    "단, 이때는 match 대신 search 함수를 사용해야 합니다. match 함수는 문자열 처음부터 매칭되는지 판단하지만, search는 문자열 일부분이 매칭되는지 판단합니다."
   ],
   "cell_type": "markdown",
   "metadata": {}
  },
  {
   "cell_type": "code",
   "execution_count": 17,
   "metadata": {},
   "outputs": [
    {
     "output_type": "execute_result",
     "data": {
      "text/plain": [
       "<re.Match object; span=(0, 5), match='Hello'>"
      ]
     },
     "metadata": {},
     "execution_count": 17
    }
   ],
   "source": [
    "re.search('^Hello', 'Hello, world!')"
   ]
  },
  {
   "cell_type": "code",
   "execution_count": 9,
   "metadata": {},
   "outputs": [
    {
     "output_type": "execute_result",
     "data": {
      "text/plain": [
       "<re.Match object; span=(7, 13), match='world!'>"
      ]
     },
     "metadata": {},
     "execution_count": 9
    }
   ],
   "source": [
    "re.search('world!$', 'Hello, world!')"
   ]
  },
  {
   "source": [
    "### 43.1.2  지정된 문자열이 하나라도 포함되는지 판단하기"
   ],
   "cell_type": "markdown",
   "metadata": {}
  },
  {
   "cell_type": "code",
   "execution_count": 10,
   "metadata": {},
   "outputs": [
    {
     "output_type": "execute_result",
     "data": {
      "text/plain": [
       "<re.Match object; span=(0, 5), match='hello'>"
      ]
     },
     "metadata": {},
     "execution_count": 10
    }
   ],
   "source": [
    "re.match('hello|world', 'hello')"
   ]
  },
  {
   "source": [
    "### 43.2 범위 판단하기"
   ],
   "cell_type": "markdown",
   "metadata": {}
  },
  {
   "cell_type": "code",
   "execution_count": 24,
   "metadata": {},
   "outputs": [
    {
     "output_type": "execute_result",
     "data": {
      "text/plain": [
       "<re.Match object; span=(0, 4), match='1234'>"
      ]
     },
     "metadata": {},
     "execution_count": 24
    }
   ],
   "source": [
    "re.match('[0-9]*', '1234')"
   ]
  },
  {
   "cell_type": "code",
   "execution_count": 31,
   "metadata": {},
   "outputs": [
    {
     "output_type": "execute_result",
     "data": {
      "text/plain": [
       "<re.Match object; span=(0, 0), match=''>"
      ]
     },
     "metadata": {},
     "execution_count": 31
    }
   ],
   "source": [
    "re.match('[0-9]*', '')"
   ]
  },
  {
   "cell_type": "code",
   "execution_count": 28,
   "metadata": {},
   "outputs": [
    {
     "output_type": "execute_result",
     "data": {
      "text/plain": [
       "<re.Match object; span=(0, 4), match='1234'>"
      ]
     },
     "metadata": {},
     "execution_count": 28
    }
   ],
   "source": [
    "re.match('[0-9]+', '1234')"
   ]
  },
  {
   "cell_type": "code",
   "execution_count": 29,
   "metadata": {},
   "outputs": [
    {
     "output_type": "execute_result",
     "data": {
      "text/plain": [
       "<re.Match object; span=(0, 2), match='12'>"
      ]
     },
     "metadata": {},
     "execution_count": 29
    }
   ],
   "source": [
    "re.match('[0-9]+', '12cd')"
   ]
  },
  {
   "cell_type": "code",
   "execution_count": 39,
   "metadata": {},
   "outputs": [],
   "source": [
    "re.match('[0-9]+', 'abcd')"
   ]
  },
  {
   "source": [
    "### 43.2.1  문자가 한 개만 있는지 판단하기"
   ],
   "cell_type": "markdown",
   "metadata": {}
  },
  {
   "cell_type": "code",
   "execution_count": 53,
   "metadata": {},
   "outputs": [
    {
     "output_type": "execute_result",
     "data": {
      "text/plain": [
       "<re.Match object; span=(0, 3), match='abd'>"
      ]
     },
     "metadata": {},
     "execution_count": 53
    }
   ],
   "source": [
    "re.match('abc?d', 'abd')"
   ]
  },
  {
   "cell_type": "code",
   "execution_count": 54,
   "metadata": {},
   "outputs": [
    {
     "output_type": "execute_result",
     "data": {
      "text/plain": [
       "<re.Match object; span=(0, 4), match='abcd'>"
      ]
     },
     "metadata": {},
     "execution_count": 54
    }
   ],
   "source": [
    "re.match('abc?d', 'abcd')"
   ]
  },
  {
   "cell_type": "code",
   "execution_count": 51,
   "metadata": {},
   "outputs": [
    {
     "output_type": "execute_result",
     "data": {
      "text/plain": [
       "<re.Match object; span=(0, 4), match='ab3c'>"
      ]
     },
     "metadata": {},
     "execution_count": 51
    }
   ],
   "source": [
    "re.match('ab[0-9]?c', 'ab3c')"
   ]
  },
  {
   "cell_type": "code",
   "execution_count": 52,
   "metadata": {},
   "outputs": [
    {
     "output_type": "execute_result",
     "data": {
      "text/plain": [
       "<re.Match object; span=(0, 3), match='abc'>"
      ]
     },
     "metadata": {},
     "execution_count": 52
    }
   ],
   "source": [
    "re.match('ab[0-9]?c', 'abc')"
   ]
  },
  {
   "cell_type": "code",
   "execution_count": 50,
   "metadata": {},
   "outputs": [
    {
     "output_type": "execute_result",
     "data": {
      "text/plain": [
       "<re.Match object; span=(0, 4), match='abxd'>"
      ]
     },
     "metadata": {},
     "execution_count": 50
    }
   ],
   "source": [
    "re.match('ab.d', 'abxd')"
   ]
  },
  {
   "source": [
    "### 43.2.2  문자 개수 판단하기"
   ],
   "cell_type": "markdown",
   "metadata": {}
  },
  {
   "cell_type": "code",
   "execution_count": 56,
   "metadata": {},
   "outputs": [
    {
     "output_type": "execute_result",
     "data": {
      "text/plain": [
       "<re.Match object; span=(0, 3), match='hhh'>"
      ]
     },
     "metadata": {},
     "execution_count": 56
    }
   ],
   "source": [
    "re.match('h{3}', 'hhhello')"
   ]
  },
  {
   "cell_type": "code",
   "execution_count": 57,
   "metadata": {},
   "outputs": [
    {
     "output_type": "execute_result",
     "data": {
      "text/plain": [
       "<re.Match object; span=(0, 15), match='hellohellohello'>"
      ]
     },
     "metadata": {},
     "execution_count": 57
    }
   ],
   "source": [
    "re.match('(hello){3}', 'hellohellohelloworld')"
   ]
  },
  {
   "cell_type": "code",
   "execution_count": 58,
   "metadata": {},
   "outputs": [
    {
     "output_type": "execute_result",
     "data": {
      "text/plain": [
       "<re.Match object; span=(0, 13), match='010-1000-1000'>"
      ]
     },
     "metadata": {},
     "execution_count": 58
    }
   ],
   "source": [
    "# 숫자 3개-4개-4개 패턴에 매칭됨\n",
    "re.match('[0-9]{3}-[0-9]{4}-[0-9]{4}', '010-1000-1000')"
   ]
  },
  {
   "cell_type": "code",
   "execution_count": 59,
   "metadata": {},
   "outputs": [],
   "source": [
    "# 숫자 3개-4개-4개 패턴에 매칭되지 않음\n",
    "re.match('[0-9]{3}-[0-9]{4}-[0-9]{4}', '010-1000-100')"
   ]
  },
  {
   "cell_type": "code",
   "execution_count": 60,
   "metadata": {},
   "outputs": [
    {
     "output_type": "execute_result",
     "data": {
      "text/plain": [
       "<re.Match object; span=(0, 13), match='011-1000-1000'>"
      ]
     },
     "metadata": {},
     "execution_count": 60
    }
   ],
   "source": [
    "# 휴대전화\n",
    "re.match('01[0-9]{1}-[0-9]{4}-[0-9]{4}', '011-1000-1000')"
   ]
  },
  {
   "cell_type": "code",
   "execution_count": 62,
   "metadata": {},
   "outputs": [
    {
     "output_type": "execute_result",
     "data": {
      "text/plain": [
       "<re.Match object; span=(0, 11), match='02-100-1000'>"
      ]
     },
     "metadata": {},
     "execution_count": 62
    }
   ],
   "source": [
    "# 일반전화\n",
    "re.match('[0-9]{2,3}-[0-9]{3,4}-[0-9]{4}', '02-100-1000')"
   ]
  },
  {
   "source": [
    "### 43.2.3  숫자와 영문 문자를 조합해서 판단하기"
   ],
   "cell_type": "markdown",
   "metadata": {}
  },
  {
   "cell_type": "code",
   "execution_count": 66,
   "metadata": {},
   "outputs": [
    {
     "output_type": "execute_result",
     "data": {
      "text/plain": [
       "<re.Match object; span=(0, 9), match='Hello1234'>"
      ]
     },
     "metadata": {},
     "execution_count": 66
    }
   ],
   "source": [
    "# a부터 z, A부터 Z, 0부터 9까지 1개 이상 있으므로\n",
    "re.match('[a-zA-Z0-9]+', 'Hello1234')"
   ]
  },
  {
   "cell_type": "code",
   "execution_count": 67,
   "metadata": {},
   "outputs": [],
   "source": [
    "# 대문자, 숫자는 없고 소문자만 있으므로 패턴에 매칭되지 않음\n",
    "re.match('[A-Z0-9]+', 'hello')"
   ]
  },
  {
   "cell_type": "code",
   "execution_count": 65,
   "metadata": {},
   "outputs": [
    {
     "output_type": "execute_result",
     "data": {
      "text/plain": [
       "<re.Match object; span=(0, 3), match='홍길동'>"
      ]
     },
     "metadata": {},
     "execution_count": 65
    }
   ],
   "source": [
    "# 가부터 힣까지 1개 이상 있으므로 패턴에 매칭됨\n",
    "re.match('[가-힣]+', '홍길동')"
   ]
  },
  {
   "source": [
    "### 43.2.4  특정 문자 범위에 포함되지 않는지 판단하기\n",
    "\n",
    "범위를 제외할 때는 '[^A-Z]+'와 같이 [ ] 안에 넣어주고, 특정 문자 범위로 시작할 때는 '^[A-Z]+'와 같이 [ ] 앞에 붙여줍니다."
   ],
   "cell_type": "markdown",
   "metadata": {}
  },
  {
   "cell_type": "code",
   "execution_count": 69,
   "metadata": {},
   "outputs": [],
   "source": [
    "# 대문자를 제외. 대문자가 있으므로 패턴에 매칭되지 않음\n",
    "re.match('[^A-Z]+', 'Hello')"
   ]
  },
  {
   "cell_type": "code",
   "execution_count": 70,
   "metadata": {},
   "outputs": [
    {
     "output_type": "execute_result",
     "data": {
      "text/plain": [
       "<re.Match object; span=(0, 5), match='hello'>"
      ]
     },
     "metadata": {},
     "execution_count": 70
    }
   ],
   "source": [
    "# 대문자를 제외. 대문자가 없으므로 패턴에 매칭됨\n",
    "re.match('[^A-Z]+', 'hello')"
   ]
  },
  {
   "cell_type": "code",
   "execution_count": 71,
   "metadata": {},
   "outputs": [
    {
     "output_type": "execute_result",
     "data": {
      "text/plain": [
       "<re.Match object; span=(0, 1), match='H'>"
      ]
     },
     "metadata": {},
     "execution_count": 71
    }
   ],
   "source": [
    "# 대문자로 시작하므로 패턴에 매칭됨\n",
    "re.search('^[A-Z]+', 'Hello')"
   ]
  },
  {
   "cell_type": "code",
   "execution_count": 72,
   "metadata": {},
   "outputs": [
    {
     "output_type": "execute_result",
     "data": {
      "text/plain": [
       "<re.Match object; span=(5, 9), match='1234'>"
      ]
     },
     "metadata": {},
     "execution_count": 72
    }
   ],
   "source": [
    "# 숫자로 끝나므로 패턴에 매칭됨\n",
    "re.search('[0-9]+$', 'Hello1234')"
   ]
  },
  {
   "source": [
    "### 43.2.5  특수 문자 판단하기\n",
    "\n",
    "특수 문자를 판단할 때는 특수 문자 앞에 \\를 붙이면 됩니다. 단, ```[ ]``` 안에서는 \\를 붙이지 않아도 되지만 에러가 발생하는 경우에는 \\를 붙입니다.   \n",
    "\n",
    "- \\d: ```[0-9]```와 같음. 모든 숫자\n",
    "- \\D: ```[^0-9]```와 같음. 숫자를 제외한 모든 문자\n",
    "- \\w: ```[a-zA-Z0-9_]```와 같음. 영문 대소문자, 숫자, 밑줄 문자\n",
    "- \\W: ```[^a-zA-Z0-9_]```와 같음. 영문 대소문자, 숫자, 밑줄 문자를 제외한 모든 문자\n"
   ],
   "cell_type": "markdown",
   "metadata": {}
  },
  {
   "cell_type": "code",
   "execution_count": 74,
   "metadata": {},
   "outputs": [
    {
     "output_type": "execute_result",
     "data": {
      "text/plain": [
       "<re.Match object; span=(2, 4), match='**'>"
      ]
     },
     "metadata": {},
     "execution_count": 74
    }
   ],
   "source": [
    "# *이 들어있는지 판단\n",
    "re.search('\\*+', '1 ** 2')"
   ]
  },
  {
   "cell_type": "code",
   "execution_count": 75,
   "metadata": {},
   "outputs": [
    {
     "output_type": "execute_result",
     "data": {
      "text/plain": [
       "<re.Match object; span=(0, 11), match='$(document)'>"
      ]
     },
     "metadata": {},
     "execution_count": 75
    }
   ],
   "source": [
    "# $, (, )와 문자, 숫자가 들어있는지 판단\n",
    "re.match('[$()a-zA-Z0-9]+', '$(document)')"
   ]
  },
  {
   "cell_type": "code",
   "execution_count": 76,
   "metadata": {},
   "outputs": [
    {
     "output_type": "execute_result",
     "data": {
      "text/plain": [
       "<re.Match object; span=(0, 4), match='1234'>"
      ]
     },
     "metadata": {},
     "execution_count": 76
    }
   ],
   "source": [
    "# 모든 숫자이므로 패턴에 매칭됨\n",
    "re.match('\\d+', '1234')"
   ]
  },
  {
   "cell_type": "code",
   "execution_count": 77,
   "metadata": {},
   "outputs": [
    {
     "output_type": "execute_result",
     "data": {
      "text/plain": [
       "<re.Match object; span=(0, 5), match='Hello'>"
      ]
     },
     "metadata": {},
     "execution_count": 77
    }
   ],
   "source": [
    "# 숫자를 제외한 모든 문자이므로 패턴에 매칭됨\n",
    "re.match('\\D+', 'Hello')"
   ]
  },
  {
   "cell_type": "code",
   "execution_count": 78,
   "metadata": {},
   "outputs": [
    {
     "output_type": "execute_result",
     "data": {
      "text/plain": [
       "<re.Match object; span=(0, 10), match='Hello_1234'>"
      ]
     },
     "metadata": {},
     "execution_count": 78
    }
   ],
   "source": [
    "# 영문 대소문자, 숫자, 밑줄 문자이므로 패턴에 매칭됨\n",
    "re.match('\\w+', 'Hello_1234')"
   ]
  },
  {
   "cell_type": "code",
   "execution_count": 79,
   "metadata": {},
   "outputs": [
    {
     "output_type": "execute_result",
     "data": {
      "text/plain": [
       "<re.Match object; span=(0, 3), match='(:)'>"
      ]
     },
     "metadata": {},
     "execution_count": 79
    }
   ],
   "source": [
    "# 영문 대소문자, 숫자, 밑줄문자를 제외한 모든 문자이므로 패턴에 매칭됨\n",
    "re.match('\\W+', '(:)')"
   ]
  },
  {
   "source": [
    "### 43.2.6  공백 처리하기\n",
    "\n",
    "공백은 ' '처럼 공백 문자를 넣어도 되고, \\s 또는 \\S로 표현할 수도 있습니다.\n",
    "\n",
    "- \\s: ```[ \\t\\n\\r\\f\\v]```와 같음. 공백(스페이스), \\t(탭) \\n(새 줄, 라인 피드), \\r(캐리지 리턴), \\f(폼피드), \\v(수직 탭)을 포함\n",
    "- \\S: ```[^ \\t\\n\\r\\f\\v]```와 같음. 공백을 제외하고 \\t, \\n, \\r, \\f, \\v만 포함"
   ],
   "cell_type": "markdown",
   "metadata": {}
  },
  {
   "cell_type": "code",
   "execution_count": 81,
   "metadata": {},
   "outputs": [
    {
     "output_type": "execute_result",
     "data": {
      "text/plain": [
       "<re.Match object; span=(0, 10), match='Hello 1234'>"
      ]
     },
     "metadata": {},
     "execution_count": 81
    }
   ],
   "source": [
    "# ' '로 공백 표현\n",
    "re.match('[a-zA-Z0-9 ]+', 'Hello 1234')"
   ]
  },
  {
   "cell_type": "code",
   "execution_count": 82,
   "metadata": {},
   "outputs": [
    {
     "output_type": "execute_result",
     "data": {
      "text/plain": [
       "<re.Match object; span=(0, 10), match='Hello 1234'>"
      ]
     },
     "metadata": {},
     "execution_count": 82
    }
   ],
   "source": [
    "# \\s로 공백 표현\n",
    "re.match('[a-zA-Z0-9\\s]+', 'Hello 1234')"
   ]
  },
  {
   "source": [
    "### 참고 | 같은 정규표현식 패턴을 자주 사용할 때\n",
    "\n",
    "같은 패턴을 자주 사용할 때는 compile 함수를 사용하여 정규표현식 패턴을 객체로 만든 뒤 match 또는 search 메서드를 호출하면 됩니다."
   ],
   "cell_type": "markdown",
   "metadata": {}
  },
  {
   "cell_type": "code",
   "execution_count": 84,
   "metadata": {},
   "outputs": [
    {
     "output_type": "execute_result",
     "data": {
      "text/plain": [
       "<re.Match object; span=(0, 4), match='1234'>"
      ]
     },
     "metadata": {},
     "execution_count": 84
    }
   ],
   "source": [
    "# 정규표현식 패턴을 객체로 만듦\n",
    "p = re.compile('[0-9]+')\n",
    "# 정규표현식 패턴 객체에서 match 메서드 사용\n",
    "p.match('1234')"
   ]
  },
  {
   "cell_type": "code",
   "execution_count": null,
   "metadata": {},
   "outputs": [],
   "source": [
    "# 정규표현식 패턴 객체에서 search 메서드 사용\n",
    "p.search('hello')"
   ]
  },
  {
   "source": [
    "### 문자열 바꾸기"
   ],
   "cell_type": "markdown",
   "metadata": {}
  },
  {
   "cell_type": "code",
   "execution_count": 86,
   "metadata": {},
   "outputs": [
    {
     "output_type": "execute_result",
     "data": {
      "text/plain": [
       "'fruit box fruit tree'"
      ]
     },
     "metadata": {},
     "execution_count": 86
    }
   ],
   "source": [
    "# 패턴, 바꿀 문자, 찾는 문자열\n",
    "re.sub('apple|orange', 'fruit', 'apple box orange tree')"
   ]
  },
  {
   "cell_type": "code",
   "execution_count": 87,
   "metadata": {},
   "outputs": [
    {
     "output_type": "execute_result",
     "data": {
      "text/plain": [
       "'n n Fizz n Buzz Fizz n n'"
      ]
     },
     "metadata": {},
     "execution_count": 87
    }
   ],
   "source": [
    "re.sub('[0-9]+', 'n', '1 2 Fizz 4 Buzz Fizz 7 8')"
   ]
  },
  {
   "source": [
    "### 43.3 그룹 사용하기\n",
    "\n",
    "패턴 안에서 정규표현식을 ( )(괄호)로 묶으면 그룹이 됩니다."
   ],
   "cell_type": "markdown",
   "metadata": {}
  },
  {
   "cell_type": "code",
   "execution_count": 90,
   "metadata": {},
   "outputs": [
    {
     "output_type": "execute_result",
     "data": {
      "text/plain": [
       "'10 20 Fizz 40 Buzz Fizz 70 80'"
      ]
     },
     "metadata": {},
     "execution_count": 90
    }
   ],
   "source": [
    "def multiple10(m):\n",
    "    n = int(m.group())\n",
    "    return str(n * 10)\n",
    "\n",
    "re.sub('[0-9]+', multiple10, '1 2 Fizz 4 Buzz Fizz 7 8')"
   ]
  },
  {
   "cell_type": "code",
   "execution_count": null,
   "metadata": {},
   "outputs": [],
   "source": [
    "# 각 그룹에 해당하는 문자열 반환\n",
    "# m.group()\n",
    "# '295'"
   ]
  },
  {
   "source": [
    "# 각 그룹에 해당하는 문자열을 튜플 형태로 반환\n",
    "# m.groups()\n",
    "# ('10', '295')"
   ],
   "cell_type": "code",
   "metadata": {},
   "execution_count": 91,
   "outputs": []
  }
 ]
}