{
 "metadata": {
  "language_info": {
   "codemirror_mode": {
    "name": "ipython",
    "version": 3
   },
   "file_extension": ".py",
   "mimetype": "text/x-python",
   "name": "python",
   "nbconvert_exporter": "python",
   "pygments_lexer": "ipython3",
   "version": "3.8.3-final"
  },
  "orig_nbformat": 2,
  "kernelspec": {
   "name": "Python 3.8.3 64-bit ('ProgramData': virtualenv)",
   "display_name": "Python 3.8.3 64-bit ('ProgramData': virtualenv)",
   "metadata": {
    "interpreter": {
     "hash": "b3ba2566441a7c06988d0923437866b63cedc61552a5af99d1f4fb67d367b25f"
    }
   }
  }
 },
 "nbformat": 4,
 "nbformat_minor": 2,
 "cells": [
  {
   "source": [
    "# 연습문제 10장"
   ],
   "cell_type": "markdown",
   "metadata": {}
  },
  {
   "source": [
    "## 10.15 연습문제"
   ],
   "cell_type": "markdown",
   "metadata": {}
  },
  {
   "source": [
    "### 10.1 아무 내용이 없는 Thing 클래스를 만들어서 출력한다. 이 클래스의 example 객체를 생성해서 출력한다. 이때 두 출력값은 같은가?"
   ],
   "cell_type": "markdown",
   "metadata": {}
  },
  {
   "cell_type": "code",
   "execution_count": 146,
   "metadata": {},
   "outputs": [],
   "source": [
    "class Thing:\n",
    "    pass"
   ]
  },
  {
   "cell_type": "code",
   "execution_count": 147,
   "metadata": {},
   "outputs": [
    {
     "output_type": "execute_result",
     "data": {
      "text/plain": [
       "<__main__.Thing at 0x15afc0e4610>"
      ]
     },
     "metadata": {},
     "execution_count": 147
    }
   ],
   "source": [
    "Thing()"
   ]
  },
  {
   "cell_type": "code",
   "execution_count": 148,
   "metadata": {},
   "outputs": [
    {
     "output_type": "execute_result",
     "data": {
      "text/plain": [
       "<__main__.Thing at 0x15af87d05b0>"
      ]
     },
     "metadata": {},
     "execution_count": 148
    }
   ],
   "source": [
    "example = Thing()\n",
    "example"
   ]
  },
  {
   "source": [
    "### 10.2 Thing2 클래스를 만들고 이 클래스의 letters 속성에 값 'abc'를 할당한 후 letters를 출력해보자."
   ],
   "cell_type": "markdown",
   "metadata": {}
  },
  {
   "cell_type": "code",
   "execution_count": 149,
   "metadata": {},
   "outputs": [
    {
     "output_type": "stream",
     "name": "stdout",
     "text": [
      "abc\n"
     ]
    }
   ],
   "source": [
    "class Thing2:\n",
    "    letters = 'abc'\n",
    "    print(letters)"
   ]
  },
  {
   "source": [
    "### 10.3 Thing3 클래스를 만든다. 이번에는 인스턴스(객체)의 letters 속성에 값 'xyz'를 할당한 후 letters를 출력한다. letters를 출력하기 위해 객체를 생성해야 하는가?"
   ],
   "cell_type": "markdown",
   "metadata": {}
  },
  {
   "cell_type": "code",
   "execution_count": 150,
   "metadata": {},
   "outputs": [],
   "source": [
    "class Thing3:\n",
    "    def __init__(self):\n",
    "        self.letters = 'xyz'\n",
    "        print(self.letters)"
   ]
  },
  {
   "cell_type": "code",
   "execution_count": 151,
   "metadata": {},
   "outputs": [
    {
     "output_type": "stream",
     "name": "stdout",
     "text": [
      "xyz\n"
     ]
    }
   ],
   "source": [
    "t3 = Thing3()"
   ]
  },
  {
   "source": [
    "### 10.4 name, symbol, number 인스턴스 속성을 가진 Element 클래스를 만들어보자. 이 클래스에서 'Hydrogen', 'H', 1 값을 가진 객체를 생성한다."
   ],
   "cell_type": "markdown",
   "metadata": {}
  },
  {
   "cell_type": "code",
   "execution_count": 152,
   "metadata": {},
   "outputs": [],
   "source": [
    "class Element:\n",
    "    def __init__(self, name, symbol, number):\n",
    "        self.name = name\n",
    "        self.symbol = symbol\n",
    "        self.number = number"
   ]
  },
  {
   "cell_type": "code",
   "execution_count": 153,
   "metadata": {},
   "outputs": [],
   "source": [
    "element = Element('Hydrogen', 'H', 1)"
   ]
  },
  {
   "source": [
    "### 10.5 'name': 'Hydrogen', 'symbol': 'H', 'number': 1과 같이 키와 값으로 이루어진 el_dict 딕셔너리를 만들어보자. 그리고 el_dict 딕셔너리로부터 Element 클래스의 hydrogen 객체를 생성한다."
   ],
   "cell_type": "markdown",
   "metadata": {}
  },
  {
   "cell_type": "code",
   "execution_count": 154,
   "metadata": {},
   "outputs": [],
   "source": [
    "class Element:\n",
    "    def __init__(self, obj):\n",
    "        self.name = obj['name']\n",
    "        self.symbol = obj['symbol']\n",
    "        self.number = obj['number']"
   ]
  },
  {
   "cell_type": "code",
   "execution_count": 155,
   "metadata": {},
   "outputs": [],
   "source": [
    "el_dict = { 'name': 'Hydrogen', 'symbol': 'H', 'number': 1 }\n",
    "hydrogen = Element(el_dict)"
   ]
  },
  {
   "source": [
    "### 10.6 Element 클래스에서 객체의 속성(name, symbol, number)값을 출력하는 dump() 메서드를 정의한다. 이 클래스의 hydrogen 객체를 생성하고, dump() 메서드로 이 속성을 출력한다."
   ],
   "cell_type": "markdown",
   "metadata": {}
  },
  {
   "cell_type": "code",
   "execution_count": 156,
   "metadata": {},
   "outputs": [],
   "source": [
    "class Element:\n",
    "    def __init__(self, obj):\n",
    "        self.name = obj['name']\n",
    "        self.symbol = obj['symbol']\n",
    "        self.number = obj['number']\n",
    "\n",
    "    def dump(self):\n",
    "        print(self.name, self.symbol, self.number, sep=', ')"
   ]
  },
  {
   "cell_type": "code",
   "execution_count": 157,
   "metadata": {},
   "outputs": [
    {
     "output_type": "stream",
     "name": "stdout",
     "text": [
      "Hydrogen, H, 1\n"
     ]
    }
   ],
   "source": [
    "el_dict = { 'name': 'Hydrogen', 'symbol': 'H', 'number': 1 }\n",
    "hydrogen = Element(el_dict)\n",
    "hydrogen.dump()"
   ]
  },
  {
   "source": [
    "### 10.7 print(hydrogen)을 호출한다. Element 클래스의 정의에서 dump 메서드를 __str__() 메서드로 바꿔서 새로운 hydrogen 객체를 생성한다. 그리고 print(hydrogen)을 다시 호출 한다."
   ],
   "cell_type": "markdown",
   "metadata": {}
  },
  {
   "cell_type": "code",
   "execution_count": 158,
   "metadata": {},
   "outputs": [],
   "source": [
    "class Element:\n",
    "    def __init__(self, obj):\n",
    "        self.name = obj['name']\n",
    "        self.symbol = obj['symbol']\n",
    "        self.number = obj['number']\n",
    "\n",
    "    def str(self):\n",
    "        print(self.name, self.symbol, self.number, sep=', ')"
   ]
  },
  {
   "cell_type": "code",
   "execution_count": 159,
   "metadata": {},
   "outputs": [
    {
     "output_type": "stream",
     "name": "stdout",
     "text": [
      "<__main__.Element object at 0x0000015AFC1367C0>\n"
     ]
    }
   ],
   "source": [
    "el_dict = { 'name': 'Hydrogen', 'symbol': 'H', 'number': 1 }\n",
    "hydrogen = Element(el_dict)\n",
    "print(hydrogen)"
   ]
  },
  {
   "source": [
    "### 10.8 Element 클래스를 수정해서 name, symbol, number의 속성을 private로 만든다. 각 속성값을 반환하기 위해 getter 프로퍼티를 정의한다."
   ],
   "cell_type": "markdown",
   "metadata": {}
  },
  {
   "cell_type": "code",
   "execution_count": 225,
   "metadata": {},
   "outputs": [],
   "source": [
    "class Element:\n",
    "    def __init__(self, obj):\n",
    "        self.__name = obj['name']\n",
    "        self.__symbol = obj['symbol']\n",
    "        self.__number = obj['number']\n",
    "    \n",
    "    @property\n",
    "    def get_name(self):\n",
    "        return self.__name\n",
    "    \n",
    "    @property\n",
    "    def get_symbol(self):\n",
    "        return self.__symbol\n",
    "\n",
    "    @property\n",
    "    def get_number(self):\n",
    "        return self.__number"
   ]
  },
  {
   "cell_type": "code",
   "execution_count": 231,
   "metadata": {},
   "outputs": [
    {
     "output_type": "stream",
     "name": "stdout",
     "text": [
      "Hydrogen\nH\n1\n"
     ]
    }
   ],
   "source": [
    "el_dict = { 'name': 'Hydrogen', 'symbol': 'H', 'number': 1 }\n",
    "hydrogen = Element(el_dict)\n",
    "print(hydrogen.get_name)\n",
    "print(hydrogen.get_symbol)\n",
    "print(hydrogen.get_number)"
   ]
  },
  {
   "source": [
    "### 10.9 세 클래스 Bear, Rabbit, Octothorpe를 정의한다. 각 클래스에 eats() 메서드를 정의해보자. 각 메서드는 'berries' (Bear), 'clover' (Rabbit), 'campers' (Octothorpe)를 반환한다. 각 클래스의 객체를 생성하고, eats() 메서드의 반환값을 출력한다."
   ],
   "cell_type": "markdown",
   "metadata": {}
  },
  {
   "source": [
    "class Bear:\n",
    "    def eats(self):\n",
    "        return 'berries'\n",
    "\n",
    "class Rabbit:\n",
    "    def eats(self):\n",
    "        return 'clover'\n",
    "\n",
    "class Octothorpe:\n",
    "    def eats(self):\n",
    "        return 'campers'"
   ],
   "cell_type": "code",
   "metadata": {},
   "execution_count": 197,
   "outputs": []
  },
  {
   "cell_type": "code",
   "execution_count": 200,
   "metadata": {},
   "outputs": [
    {
     "output_type": "execute_result",
     "data": {
      "text/plain": [
       "'berries'"
      ]
     },
     "metadata": {},
     "execution_count": 200
    }
   ],
   "source": [
    "bear = Bear()\n",
    "bear.eats()"
   ]
  },
  {
   "cell_type": "code",
   "execution_count": 203,
   "metadata": {},
   "outputs": [
    {
     "output_type": "execute_result",
     "data": {
      "text/plain": [
       "'clover'"
      ]
     },
     "metadata": {},
     "execution_count": 203
    }
   ],
   "source": [
    "rabbit = Rabbit()\n",
    "rabbit.eats()"
   ]
  },
  {
   "cell_type": "code",
   "execution_count": 204,
   "metadata": {},
   "outputs": [
    {
     "output_type": "execute_result",
     "data": {
      "text/plain": [
       "'campers'"
      ]
     },
     "metadata": {},
     "execution_count": 204
    }
   ],
   "source": [
    "octothorpe = Octothorpe()\n",
    "octothorpe.eats()"
   ]
  },
  {
   "source": [
    "### 10.10 Laser, Claw, SmartPhone 클래스를 정의한다. 각 클래스는 does() 메서드를 갖고 있다. 각 메서드는 'disintegrate' (Laser), 'crush' (Claw) 또는 'ring' (Smart Phone) 을 반환한다. 그리고 각 인스턴스 (객체)를 갖는 Robot 클래스를 정의한다. Robot 클래스의 객체가 갖고 있는 내용을 출력하는 does() 메서드를 정의한다."
   ],
   "cell_type": "markdown",
   "metadata": {}
  },
  {
   "cell_type": "code",
   "execution_count": 205,
   "metadata": {},
   "outputs": [],
   "source": [
    "class Laser:\n",
    "    @staticmethod\n",
    "    def does():\n",
    "        return 'disintegrate'\n",
    "\n",
    "class Claw:\n",
    "    @staticmethod\n",
    "    def does():\n",
    "        return 'crush'\n",
    "\n",
    "class SmartPhone:\n",
    "    @staticmethod\n",
    "    def does():\n",
    "        return 'ring'\n",
    "\n",
    "class Robot:\n",
    "    @staticmethod\n",
    "    def does():\n",
    "        print(Laser.does(), Claw.does(), SmartPhone.does(), sep=',')"
   ]
  },
  {
   "cell_type": "code",
   "execution_count": 195,
   "metadata": {},
   "outputs": [
    {
     "output_type": "stream",
     "name": "stdout",
     "text": [
      "disintegrate, crush, ring\n"
     ]
    }
   ],
   "source": [
    "Robot.does()"
   ]
  }
 ]
}