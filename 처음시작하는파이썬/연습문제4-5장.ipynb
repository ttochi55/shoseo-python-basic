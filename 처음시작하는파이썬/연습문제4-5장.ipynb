{
 "metadata": {
  "language_info": {
   "codemirror_mode": {
    "name": "ipython",
    "version": 3
   },
   "file_extension": ".py",
   "mimetype": "text/x-python",
   "name": "python",
   "nbconvert_exporter": "python",
   "pygments_lexer": "ipython3",
   "version": "3.8.3-final"
  },
  "orig_nbformat": 2,
  "kernelspec": {
   "name": "Python 3.8.3 64-bit (conda)",
   "display_name": "Python 3.8.3 64-bit (conda)",
   "metadata": {
    "interpreter": {
     "hash": "b3ba2566441a7c06988d0923437866b63cedc61552a5af99d1f4fb67d367b25f"
    }
   }
  }
 },
 "nbformat": 4,
 "nbformat_minor": 2,
 "cells": [
  {
   "source": [
    "# 연습문제"
   ],
   "cell_type": "markdown",
   "metadata": {}
  },
  {
   "source": [
    "## 4.1\n",
    "1~10 사이의 숫자를 선택해서 secret 변수에 할당한다. 그리고 1~10 사이의 다른 숫자를 선택해서 guess 변수에 할당한다. if, elif, else 문을 사용하여 guess 변수가 secret 변수보다 작으면 'too low', 크면 'too high', 일치하면 'just right'를 출력한다."
   ],
   "cell_type": "markdown",
   "metadata": {}
  },
  {
   "cell_type": "code",
   "execution_count": 28,
   "metadata": {},
   "outputs": [
    {
     "output_type": "stream",
     "name": "stdout",
     "text": [
      "3 2 too high\n"
     ]
    }
   ],
   "source": [
    "import random\n",
    "secret = random.randint(1,10)\n",
    "guess = random.randint(1,10)\n",
    "output = ''\n",
    "if guess < secret:\n",
    "    output = 'too low'\n",
    "elif guess > secret:\n",
    "    output = 'too high'\n",
    "else:\n",
    "    output = 'just right'\n",
    "print(guess, secret, output)"
   ]
  },
  {
   "source": [],
   "cell_type": "markdown",
   "metadata": {}
  },
  {
   "source": [
    "## 4.2\n",
    "True나 False를 small과 green 변수에 할당한다. if, else 문을 사용하여 작은 것(small)과 녹색(green)을 기준으로 체리, 완두콩, 수박, 호박(cherry, pea, watermelon, pumpkin)을 출력해보자 (예: 체리는 작고 녹색이 아니다, 완두콩은 작고 녹색이다, 수박은 크고 녹색이다, 호박은 크고 녹색이 아니다)."
   ],
   "cell_type": "markdown",
   "metadata": {}
  },
  {
   "cell_type": "code",
   "execution_count": 39,
   "metadata": {},
   "outputs": [
    {
     "output_type": "stream",
     "name": "stdout",
     "text": [
      "False False pumpkin\n"
     ]
    }
   ],
   "source": [
    "import random\n",
    "choices = [True, False]\n",
    "small = random.choice(choices)\n",
    "green = random.choice(choices)\n",
    "output = ''\n",
    "\n",
    "if small == True and green == False:\n",
    "    output = 'cherry'\n",
    "elif small == True and green == True:\n",
    "    output = 'pea'\n",
    "elif small == False and green == True:\n",
    "    output = 'watermelon'\n",
    "elif small == False and green == False:\n",
    "    output = 'pumpkin'\n",
    "\n",
    "print(small, green, output)"
   ]
  },
  {
   "source": [
    "## 5.1\n",
    "m 으로 시작하는 단어를 대문자로 만들어보자.\n",
    "```\n",
    ">>> song = \"\"\"When an eel grabs your arm,\n",
    "... And it causes great harm,\n",
    "... That's - a moray!\"\"\"\n",
    "```"
   ],
   "cell_type": "markdown",
   "metadata": {}
  },
  {
   "cell_type": "code",
   "execution_count": 65,
   "metadata": {},
   "outputs": [
    {
     "output_type": "stream",
     "name": "stdout",
     "text": [
      "moray!\nWhen an eel grabs your arm, And it causes great harm, That's - a MORAY!\n"
     ]
    }
   ],
   "source": [
    "import re\n",
    "\n",
    "song = \"\"\"When an eel grabs your arm,\n",
    "And it causes great harm,\n",
    "That's - a moray!\"\"\"\n",
    "\n",
    "words = song.split()\n",
    "change_song = []\n",
    "for word in words:\n",
    "    if re.match('m', word):\n",
    "        print(word)\n",
    "        change_song.append(word.upper())\n",
    "    else:\n",
    "        change_song.append(word)\n",
    "\n",
    "print(' '.join(change_song))"
   ]
  },
  {
   "source": [
    "## 5.2\n",
    "다음과 같은 형식으로 각 리스트의 질문과 답을 차례로 출력해보자.   \n",
    "Q: question   \n",
    "A: answer   \n",
    "```\n",
    ">>> question = [\n",
    "... \"We don't serve strings around here. Are you a string?\",\n",
    "... \"What is said on Father's Day in the forest?\",\n",
    "... \"What makes the sound 'Sis! Boom! Bah!'?\",\n",
    "... ]\n",
    ">>> answers = [\n",
    "... \"An exploding sheep.\",\n",
    "... \"No, I'm a frayed knot.\",\n",
    "... \"'Pop!' goes the weasel.\",\n",
    "... ]\n",
    "```"
   ],
   "cell_type": "markdown",
   "metadata": {}
  },
  {
   "cell_type": "code",
   "execution_count": 82,
   "metadata": {},
   "outputs": [
    {
     "output_type": "stream",
     "name": "stdout",
     "text": [
      "Q: We don't serve strings around here. Are you a string?\nA: An exploding sheep.\n\nQ: What is said on Father's Day in the forest?\nA: No, I'm a frayed knot.\n\nQ: What makes the sound 'Sis! Boom! Bah!'?\nA: 'Pop!' goes the weasel.\n\n"
     ]
    }
   ],
   "source": [
    "question = [\n",
    "\"We don't serve strings around here. Are you a string?\",\n",
    "\"What is said on Father's Day in the forest?\",\n",
    "\"What makes the sound 'Sis! Boom! Bah!'?\",\n",
    "]\n",
    "answers = [\n",
    "\"An exploding sheep.\",\n",
    "\"No, I'm a frayed knot.\",\n",
    "\"'Pop!' goes the weasel.\",\n",
    "]\n",
    "for faq in list(zip(question, answers)):\n",
    "    for i in range(len(faq)):\n",
    "        if i == 0:\n",
    "            print('Q:', faq[i])\n",
    "        else:\n",
    "            print('A:', faq[i])\n",
    "    print()"
   ]
  },
  {
   "source": [
    "## 5.3\n",
    "옛 스타일 포매팅을 사용하여 시를 써보자. 문자열 'roast beef', 'ham', 'head', 'clam'을 아래 문자열에 대체한다.\n",
    "```\n",
    "My kitty cat likes %s,\n",
    "My kitty cat likes %s,\n",
    "My kitty cat fell on his %s And now thinks he's a %s.\n",
    "```"
   ],
   "cell_type": "markdown",
   "metadata": {}
  },
  {
   "cell_type": "code",
   "execution_count": 95,
   "metadata": {},
   "outputs": [
    {
     "output_type": "execute_result",
     "data": {
      "text/plain": [
       "'My kitty cat likes roast beef'"
      ]
     },
     "metadata": {},
     "execution_count": 95
    }
   ],
   "source": [
    "\"My kitty cat likes %s\" % 'roast beef'"
   ]
  },
  {
   "cell_type": "code",
   "execution_count": 96,
   "metadata": {},
   "outputs": [
    {
     "output_type": "execute_result",
     "data": {
      "text/plain": [
       "'My kitty cat likes ham'"
      ]
     },
     "metadata": {},
     "execution_count": 96
    }
   ],
   "source": [
    "\"My kitty cat likes %s\" % 'ham'"
   ]
  },
  {
   "cell_type": "code",
   "execution_count": 105,
   "metadata": {},
   "outputs": [
    {
     "output_type": "execute_result",
     "data": {
      "text/plain": [
       "\"My kitty cat fell on his head And now thinks he's a clam.\""
      ]
     },
     "metadata": {},
     "execution_count": 105
    }
   ],
   "source": [
    "\"My kitty cat fell on his %s And now thinks he's a %s.\" % ('head', 'clam')"
   ]
  },
  {
   "cell_type": "code",
   "execution_count": 108,
   "metadata": {},
   "outputs": [
    {
     "output_type": "stream",
     "name": "stdout",
     "text": [
      "My kitty cat likes roast beef,\nMy kitty cat likes ham,\nMy kitty cat fell on his roast beef And now thinks he's a clam.\n\n"
     ]
    }
   ],
   "source": [
    "s = \"\"\"My kitty cat likes %s,\n",
    "My kitty cat likes %s,\n",
    "My kitty cat fell on his %s And now thinks he's a %s.\n",
    "\"\"\" % ('roast beef', 'ham', 'roast beef', 'clam')\n",
    "print(s)"
   ]
  },
  {
   "source": [
    "## 5.4\n",
    "새 스타일의 포매팅을 사용하여 메일을 써보자. 다음 문자열을 letter 변수에 저장한다(다음 문제에서 이 변수를 사용한다).\n",
    "```\n",
    "Dear {salutation} {name},\n",
    "\n",
    "Thank you for your letter. We are sorry that our {product} {verbed} in your {room}. Please note that it should never be used in a {room}, especially near any {animals}.add\n",
    "\n",
    "Send us your receipt and {amount} for shipping and handling. We will send you another {product} that, in our tests, is {percent}% less likely to have {verbed}.\n",
    "\n",
    "Thank you for your support.\n",
    "Sincerely,\n",
    "{spokesman}\n",
    "{job_title}\n",
    "```"
   ],
   "cell_type": "markdown",
   "metadata": {}
  },
  {
   "cell_type": "code",
   "execution_count": 120,
   "metadata": {},
   "outputs": [
    {
     "output_type": "stream",
     "name": "stdout",
     "text": [
      "\nDear Mr Smith,\n\nThank you for your letter. We are sorry that our glasses broken in your 507. Please note that it should never be used in a 507, especially near any cats.add\n\nSend us your receipt and 30$ for shipping and handling. We will send you another glasses that, in our tests, is 10% less likely to have broken.\n\nThank you for your support.\nSincerely,\nRegards\nghost\n\n"
     ]
    }
   ],
   "source": [
    "salutation = \"Mr\"\n",
    "name = 'Smith'\n",
    "product = 'glasses'\n",
    "verbed = 'broken'\n",
    "room = '507'\n",
    "animals = 'cats'\n",
    "amount = '30$'\n",
    "percent = '10'\n",
    "spokesman = 'Regards'\n",
    "job_title = 'ghost'\n",
    "\n",
    "s = f\"\"\"\n",
    "Dear {salutation} {name},\n",
    "\n",
    "Thank you for your letter. We are sorry that our {product} {verbed} in your {room}. Please note that it should never be used in a {room}, especially near any {animals}.add\n",
    "\n",
    "Send us your receipt and {amount} for shipping and handling. We will send you another {product} that, in our tests, is {percent}% less likely to have {verbed}.\n",
    "\n",
    "Thank you for your support.\n",
    "Sincerely,\n",
    "{spokesman}\n",
    "{job_title}\n",
    "\"\"\"\n",
    "\n",
    "print(s)"
   ]
  },
  {
   "source": [
    "## 5.5\n",
    "문자열 변수 'salutation', 'name', 'product', 'verbed'(verb의 과거), 'room', 'animals', 'amount', 'percent', 'spokesman', 'job_title'에 값을 할당한다. 문자열 변수와 letter.format()를 사용하여 메일을 출력해보자."
   ],
   "cell_type": "markdown",
   "metadata": {}
  },
  {
   "cell_type": "code",
   "execution_count": 122,
   "metadata": {},
   "outputs": [
    {
     "output_type": "stream",
     "name": "stdout",
     "text": [
      "\nDear Mr Smith,\n\nThank you for your letter. We are sorry that our glasses broken in your 507. Please note that it should never be used in a 507, especially near any cats.add\n\nSend us your receipt and 30$ for shipping and handling. We will send you another glasses that, in our tests, is 10% less likely to have broken.\n\nThank you for your support.\nSincerely,\nRegards\nghost\n\n"
     ]
    }
   ],
   "source": [
    "s = \"\"\"\n",
    "Dear {salutation} {name},\n",
    "\n",
    "Thank you for your letter. We are sorry that our {product} {verbed} in your {room}. Please note that it should never be used in a {room}, especially near any {animals}.add\n",
    "\n",
    "Send us your receipt and {amount} for shipping and handling. We will send you another {product} that, in our tests, is {percent}% less likely to have {verbed}.\n",
    "\n",
    "Thank you for your support.\n",
    "Sincerely,\n",
    "{spokesman}\n",
    "{job_title}\n",
    "\"\"\".format(salutation = \"Mr\",\n",
    "name = 'Smith',\n",
    "product = 'glasses',\n",
    "verbed = 'broken',\n",
    "room = '507',\n",
    "animals = 'cats',\n",
    "amount = '30$',\n",
    "percent = '10',\n",
    "spokesman = 'Regards',\n",
    "job_title = 'ghost')\n",
    "\n",
    "print(s)"
   ]
  },
  {
   "source": [
    "## 5.6\n",
    "어떤 물건에 이름을 짓는 여론 조사를 실시한 후 다음과 같은 패턴이 나타났다.   \n",
    "- an English submarine 이름은 (Boaty Mcboatface)로 지어졌다.\n",
    "- an Australian racehorse 이름은 (Horsey McHorseface)로 지어졌다.\n",
    "- a Swedish train 이름은 (Trainy McTrainface)로 지어졌다.\n",
    "\n",
    "문자열 'duck', 'gourd', 'spitz'과 % 포매팅을 사용하여 위 괄호 안의 밑줄 문자열의 형식과 같이 출력해보자.\n",
    "```\n",
    "[출력]\n",
    "Ducky McDuckface\n",
    "Gourdy McGourdface\n",
    "Spitzy McSpitzface\n",
    "```"
   ],
   "cell_type": "markdown",
   "metadata": {}
  },
  {
   "cell_type": "code",
   "execution_count": 134,
   "metadata": {},
   "outputs": [
    {
     "output_type": "execute_result",
     "data": {
      "text/plain": [
       "'Ducky McDuckface'"
      ]
     },
     "metadata": {},
     "execution_count": 134
    }
   ],
   "source": [
    "\"%sy Mc%sface\" % ('Duck','Duck')"
   ]
  },
  {
   "cell_type": "code",
   "execution_count": 135,
   "metadata": {},
   "outputs": [
    {
     "output_type": "execute_result",
     "data": {
      "text/plain": [
       "'Gourdy McGourdface'"
      ]
     },
     "metadata": {},
     "execution_count": 135
    }
   ],
   "source": [
    "'%sy Mc%sface' % ('Gourd','Gourd')"
   ]
  },
  {
   "cell_type": "code",
   "execution_count": 148,
   "metadata": {},
   "outputs": [
    {
     "output_type": "execute_result",
     "data": {
      "text/plain": [
       "'Spitzy McSpitzface'"
      ]
     },
     "metadata": {},
     "execution_count": 148
    }
   ],
   "source": [
    "'%sy Mc%sface' % ('Spitz','Spitz')"
   ]
  },
  {
   "cell_type": "code",
   "execution_count": 150,
   "metadata": {},
   "outputs": [
    {
     "output_type": "stream",
     "name": "stdout",
     "text": [
      "Ducky McDuckface,\nGourdy McGourdface,\nSpitzy McSpitzface\n\n"
     ]
    }
   ],
   "source": [
    "s = \"\"\"%sy Mc%sface,\n",
    "%sy Mc%sface,\n",
    "%sy Mc%sface\n",
    "\"\"\" % ('Duck','Duck','Gourd','Gourd','Spitz','Spitz')\n",
    "print (s)"
   ]
  },
  {
   "source": [
    "## 5.7\n",
    "format() 메서드를 사용하여 문제 5.6을 풀어본다."
   ],
   "cell_type": "markdown",
   "metadata": {}
  },
  {
   "cell_type": "code",
   "execution_count": 140,
   "metadata": {},
   "outputs": [
    {
     "output_type": "execute_result",
     "data": {
      "text/plain": [
       "'Ducky McDuckface'"
      ]
     },
     "metadata": {},
     "execution_count": 140
    }
   ],
   "source": [
    "\"{0}y Mc{0}face\".format('Duck')"
   ]
  },
  {
   "cell_type": "code",
   "execution_count": 142,
   "metadata": {},
   "outputs": [
    {
     "output_type": "execute_result",
     "data": {
      "text/plain": [
       "'Gourdy McGourdface'"
      ]
     },
     "metadata": {},
     "execution_count": 142
    }
   ],
   "source": [
    "'{0}y Mc{0}face'.format('Gourd')"
   ]
  },
  {
   "cell_type": "code",
   "execution_count": 144,
   "metadata": {},
   "outputs": [
    {
     "output_type": "execute_result",
     "data": {
      "text/plain": [
       "'Spitzy McSpitzface'"
      ]
     },
     "metadata": {},
     "execution_count": 144
    }
   ],
   "source": [
    "'{0}y Mc{0}face'.format('Spitz')"
   ]
  },
  {
   "cell_type": "code",
   "execution_count": 146,
   "metadata": {},
   "outputs": [
    {
     "output_type": "stream",
     "name": "stdout",
     "text": [
      "Ducky McDuckface,\nGourdy McGourdface,\nSpitzy McSpitzface\n\n"
     ]
    }
   ],
   "source": [
    "s = \"\"\"{0}y Mc{0}face,\n",
    "{1}y Mc{1}face,\n",
    "{2}y Mc{2}face\n",
    "\"\"\".format('Duck', 'Gourd', 'Spitz')\n",
    "print(s)"
   ]
  },
  {
   "source": [
    "## 5.8\n",
    "f-문자열을 사용하여 문제 5.6을 풀어본다."
   ],
   "cell_type": "markdown",
   "metadata": {}
  },
  {
   "cell_type": "code",
   "execution_count": 147,
   "metadata": {},
   "outputs": [
    {
     "output_type": "stream",
     "name": "stdout",
     "text": [
      "Ducky McDuckface,\nGourdy McGourdface,\nSpitzy McSpitzface\n\n"
     ]
    }
   ],
   "source": [
    "n1 = 'Duck'\n",
    "n2 = 'Gourd'\n",
    "n3 = 'Spitz'\n",
    "\n",
    "s = f\"\"\"{n1}y Mc{n1}face,\n",
    "{n2}y Mc{n2}face,\n",
    "{n3}y Mc{n3}face\n",
    "\"\"\"\n",
    "\n",
    "print(s)"
   ]
  }
 ]
}