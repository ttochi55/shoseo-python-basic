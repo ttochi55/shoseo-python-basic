{
 "metadata": {
  "language_info": {
   "codemirror_mode": {
    "name": "ipython",
    "version": 3
   },
   "file_extension": ".py",
   "mimetype": "text/x-python",
   "name": "python",
   "nbconvert_exporter": "python",
   "pygments_lexer": "ipython3",
   "version": "3.8.3-final"
  },
  "orig_nbformat": 2,
  "kernelspec": {
   "name": "Python 3.8.3 64-bit (conda)",
   "display_name": "Python 3.8.3 64-bit (conda)",
   "metadata": {
    "interpreter": {
     "hash": "b3ba2566441a7c06988d0923437866b63cedc61552a5af99d1f4fb67d367b25f"
    }
   }
  }
 },
 "nbformat": 4,
 "nbformat_minor": 2,
 "cells": [
  {
   "source": [
    "# 연습문제 7-8장"
   ],
   "cell_type": "markdown",
   "metadata": {}
  },
  {
   "source": [
    "## 7.6 연습문제"
   ],
   "cell_type": "markdown",
   "metadata": {}
  },
  {
   "source": [
    "7.1 출생년도에 대한 리스트 year_lists를 만들어보자. 출생년도를 첫 번째 요소로 하고 1년씩 증가해 다섯 번째 생일이 되는 해까지의 요소를 넣는다. 예를 들어, 1980년에 태어났다면 리스트는 years_list = [1980, 1981, 1982, 1983, 1984, 1985]일 것이다. 다섯 살도 안됐는데 이 책을 읽고 있다면 뭐라고 말해야 할지 모르겠다."
   ],
   "cell_type": "markdown",
   "metadata": {}
  },
  {
   "cell_type": "code",
   "execution_count": 5,
   "metadata": {},
   "outputs": [
    {
     "output_type": "execute_result",
     "data": {
      "text/plain": [
       "[1980, 1981, 1982, 1983, 1984, 1985]"
      ]
     },
     "metadata": {},
     "execution_count": 5
    }
   ],
   "source": [
    "year_list = [1980+i for i in range(6)]\n",
    "year_list"
   ]
  },
  {
   "source": [
    "7.2 years_list의 세 번째 생일은 몇 년도인가? 기억하자, 첫 해는 0살이다 (오프셋 0은 출생년도)."
   ],
   "cell_type": "markdown",
   "metadata": {}
  },
  {
   "cell_type": "code",
   "execution_count": 6,
   "metadata": {},
   "outputs": [
    {
     "output_type": "execute_result",
     "data": {
      "text/plain": [
       "1983"
      ]
     },
     "metadata": {},
     "execution_count": 6
    }
   ],
   "source": [
    "year_list[3]"
   ]
  },
  {
   "source": [
    "7.3 years_list 중 가장 나이가 많을 때는 몇 년도인가?"
   ],
   "cell_type": "markdown",
   "metadata": {}
  },
  {
   "cell_type": "code",
   "execution_count": 7,
   "metadata": {},
   "outputs": [
    {
     "output_type": "execute_result",
     "data": {
      "text/plain": [
       "1985"
      ]
     },
     "metadata": {},
     "execution_count": 7
    }
   ],
   "source": [
    "year_list[-1]"
   ]
  },
  {
   "source": [
    "7.4 \"mozzarella\", \"cinderella\", \"salmonella\" 세 문자열을 요소로 갖는 things 리스트를 만들어보자."
   ],
   "cell_type": "markdown",
   "metadata": {}
  },
  {
   "cell_type": "code",
   "execution_count": 8,
   "metadata": {},
   "outputs": [
    {
     "output_type": "execute_result",
     "data": {
      "text/plain": [
       "['mozzarella', 'cinderella', 'salmonella']"
      ]
     },
     "metadata": {},
     "execution_count": 8
    }
   ],
   "source": [
    "things = [\"mozzarella\", \"cinderella\", \"salmonella\"]\n",
    "things"
   ]
  },
  {
   "source": [
    "7.5 things 리스트에서 사람 이름의 첫 글자를 대문자로 바꿔서 출력해보자. 그러면 리스트의 요소가 변경 되는가?"
   ],
   "cell_type": "markdown",
   "metadata": {}
  },
  {
   "cell_type": "code",
   "execution_count": 11,
   "metadata": {},
   "outputs": [
    {
     "output_type": "stream",
     "name": "stdout",
     "text": [
      "Mozzarella\nCinderella\nSalmonella\n"
     ]
    }
   ],
   "source": [
    "for i in things:\n",
    "    print(i.capitalize())"
   ]
  },
  {
   "source": [
    "7.6 things 리스트의 치즈 요소를 모두 대문자로 바꿔서 출력해보자."
   ],
   "cell_type": "markdown",
   "metadata": {}
  },
  {
   "cell_type": "code",
   "execution_count": 15,
   "metadata": {},
   "outputs": [
    {
     "output_type": "stream",
     "name": "stdout",
     "text": [
      "MOZZARELLA\nCINDERELLA\nSALMONELLA\n"
     ]
    }
   ],
   "source": [
    "for i in things:\n",
    "    print(i.upper())"
   ]
  },
  {
   "source": [
    "7.7 things 리스트에 질병 요소가 있다면 제거한 뒤 리스트를 출력해보자."
   ],
   "cell_type": "markdown",
   "metadata": {}
  },
  {
   "cell_type": "code",
   "execution_count": 21,
   "metadata": {},
   "outputs": [
    {
     "output_type": "stream",
     "name": "stdout",
     "text": [
      "['cinderella', 'salmonella']\n"
     ]
    }
   ],
   "source": [
    "x = [i for i in things if 'mozz' not in i]\n",
    "print(x)"
   ]
  },
  {
   "source": [
    "7.8 \"Groucho\", \"Chico\", \"Harpo\" 세 문자열 요소를 갖는 surprise 리스트를 만들어보자."
   ],
   "cell_type": "markdown",
   "metadata": {}
  },
  {
   "cell_type": "code",
   "execution_count": 22,
   "metadata": {},
   "outputs": [
    {
     "output_type": "stream",
     "name": "stdout",
     "text": [
      "['Groucho', 'Chico', 'Harpo']\n"
     ]
    }
   ],
   "source": [
    "surprise = [\"Groucho\", \"Chico\", \"Harpo\"]\n",
    "print(surprise)"
   ]
  },
  {
   "source": [
    "7.9 Surprise 리스트의 마지막 요소를 소문자로 변경하고, 단어를 뒤집은 다음에 첫 글자를 대문자로 바꿔보자."
   ],
   "cell_type": "markdown",
   "metadata": {}
  },
  {
   "cell_type": "code",
   "execution_count": 62,
   "metadata": {},
   "outputs": [
    {
     "output_type": "stream",
     "name": "stdout",
     "text": [
      "Oprah\n"
     ]
    }
   ],
   "source": [
    "x = surprise[-1]\n",
    "x = list(reversed(x.lower()))\n",
    "x = ''.join(x).capitalize()\n",
    "print(x)"
   ]
  },
  {
   "source": [
    "7.10 리스트 컴프리헨션을 이용하여 range(10)에서 짝수 리스트를 만들어보자."
   ],
   "cell_type": "markdown",
   "metadata": {}
  },
  {
   "cell_type": "code",
   "execution_count": 67,
   "metadata": {},
   "outputs": [
    {
     "output_type": "execute_result",
     "data": {
      "text/plain": [
       "[0, 2, 4, 6, 8]"
      ]
     },
     "metadata": {},
     "execution_count": 67
    }
   ],
   "source": [
    "[i for i in range(0, 10, 2)]"
   ]
  },
  {
   "source": [
    "7.11 줄넘기 랩 음악을 만들어보자. 일련의 두 줄 리듬을 출력한다. 프로그램의 시작 부분은 다음과 같다.\n",
    "```\n",
    "start1 = [\"fee\", \"fie\", \"foe\"]\n",
    "rhymes = [\n",
    "    (\"flop\", \"get a mop\"),\n",
    "    (\"fope\", \"turn the rope\"),\n",
    "    (\"fa\", \"get your ma\"),\n",
    "    (\"fudge\", \"call the judge\"),\n",
    "    (\"fat\", \"pet the cat\"),\n",
    "    (\"fog\", \"walk the dog\"),\n",
    "    (\"fun\", \"say we're done\"),\n",
    "]\n",
    "start2 = \"Someone better\"\n",
    "```\n",
    "rhymes의 각 튜플(첫 번째, 두 번째)에서\n",
    "\n",
    "첫 번째\n",
    "- start1의 각 문자열을 출력한다. 첫 글자를 대문자로 만들고, 각 단어 뒤에 느낌표와 공백을 출력한다.\n",
    "- 이어서 rhymes의 첫 번째 문자열의 단어 역시 첫 글자를 대문자로 만들고 느낌표를 출력한다.\n",
    "\n",
    "두 번째\n",
    "- start2와 공백을 출력한다.\n",
    "- 두 번째 문자열과 마침표를 출력한다.\n",
    "\n",
    "[결과 예]\n",
    "```\n",
    "Fee! Fie! Foe! Flop!\n",
    "Someone better get a mop.\n",
    "```"
   ],
   "cell_type": "markdown",
   "metadata": {}
  },
  {
   "cell_type": "code",
   "execution_count": 86,
   "metadata": {},
   "outputs": [],
   "source": [
    "start1 = [\"fee\", \"fie\", \"foe\"]\n",
    "rhymes = [\n",
    "    (\"flop\", \"get a mop\"),\n",
    "    (\"fope\", \"turn the rope\"),\n",
    "    (\"fa\", \"get your ma\"),\n",
    "    (\"fudge\", \"call the judge\"),\n",
    "    (\"fat\", \"pet the cat\"),\n",
    "    (\"fog\", \"walk the dog\"),\n",
    "    (\"fun\", \"say we're done\"),\n",
    "]\n",
    "start2 = \"Someone better\""
   ]
  },
  {
   "cell_type": "code",
   "execution_count": 120,
   "metadata": {},
   "outputs": [
    {
     "output_type": "stream",
     "name": "stdout",
     "text": [
      "flop! fope! fa! fudge! fat! fog! fun! "
     ]
    }
   ],
   "source": [
    "'! '.join(start1)\n",
    "for k, v in rhymes:\n",
    "    print(k, end='! ')"
   ]
  },
  {
   "cell_type": "code",
   "execution_count": 121,
   "metadata": {},
   "outputs": [
    {
     "output_type": "stream",
     "name": "stdout",
     "text": [
      "Someone better get a mop.\nSomeone better turn the rope.\nSomeone better get your ma.\nSomeone better call the judge.\nSomeone better pet the cat.\nSomeone better walk the dog.\nSomeone better say we're done.\n"
     ]
    }
   ],
   "source": [
    "for k, v in rhymes:\n",
    "    print(start2, v, end='.\\n')"
   ]
  },
  {
   "source": [
    "## 8.6 연습문제"
   ],
   "cell_type": "markdown",
   "metadata": {}
  },
  {
   "source": [
    "8.1 영어-프랑스어 사전을 의미하는 e2f 딕셔너리를 만들어 출력해보자. 영어 dog는 프랑스어 chien이고, cat은 chat, walrus는 morse다."
   ],
   "cell_type": "markdown",
   "metadata": {}
  },
  {
   "cell_type": "code",
   "execution_count": 126,
   "metadata": {},
   "outputs": [],
   "source": [
    "e2f = {\n",
    "    'dog': 'chien',\n",
    "    'cat': 'chat',\n",
    "    'walrus': 'morse'\n",
    "}"
   ]
  },
  {
   "source": [
    "8.2 e2f 딕셔너리에서 영어 walrus를 프랑스어로 출력해보자."
   ],
   "cell_type": "markdown",
   "metadata": {}
  },
  {
   "cell_type": "code",
   "execution_count": 135,
   "metadata": {},
   "outputs": [
    {
     "output_type": "execute_result",
     "data": {
      "text/plain": [
       "'morse'"
      ]
     },
     "metadata": {},
     "execution_count": 135
    }
   ],
   "source": [
    "e2f['walrus']"
   ]
  },
  {
   "source": [
    "8.3 e2f 딕셔너리에서 f2e 딕셔너리라는 영어-프랑스어 사전을 만들어보자 (items 메서드 사용)."
   ],
   "cell_type": "markdown",
   "metadata": {}
  },
  {
   "cell_type": "code",
   "execution_count": 136,
   "metadata": {},
   "outputs": [
    {
     "output_type": "execute_result",
     "data": {
      "text/plain": [
       "{'chien': 'dog', 'chat': 'cat', 'morse': 'walrus'}"
      ]
     },
     "metadata": {},
     "execution_count": 136
    }
   ],
   "source": [
    "f2e = {value: key for key, value in e2f.items()}\n",
    "f2e"
   ]
  },
  {
   "source": [
    "8.4 e2f 딕셔너리를 사용해서 프랑스어 chien을 영어로 출력해보자."
   ],
   "cell_type": "markdown",
   "metadata": {}
  },
  {
   "cell_type": "code",
   "execution_count": 157,
   "metadata": {},
   "outputs": [
    {
     "output_type": "stream",
     "name": "stdout",
     "text": [
      "dog\n"
     ]
    }
   ],
   "source": [
    "for k, v in e2f.items():\n",
    "    if v == 'chien':\n",
    "        print(k)"
   ]
  },
  {
   "cell_type": "code",
   "execution_count": 160,
   "metadata": {},
   "outputs": [
    {
     "output_type": "stream",
     "name": "stdout",
     "text": [
      "['dog']\n"
     ]
    }
   ],
   "source": [
    "s = [k for k, v in e2f.items() if v == 'chien']\n",
    "print(s)"
   ]
  },
  {
   "source": [
    "8.5 e2f 딕셔너리의 영어 단어 키들을 출력해보자."
   ],
   "cell_type": "markdown",
   "metadata": {}
  },
  {
   "cell_type": "code",
   "execution_count": 137,
   "metadata": {},
   "outputs": [
    {
     "output_type": "execute_result",
     "data": {
      "text/plain": [
       "dict_keys(['dog', 'cat', 'walrus'])"
      ]
     },
     "metadata": {},
     "execution_count": 137
    }
   ],
   "source": [
    "e2f.keys()"
   ]
  },
  {
   "source": [
    "8.6 이차원 딕셔너리 life를 만들어보자. 최상위 키는 'animals', 'plants', 'other' 다. 그리고 'animals'는 각각 'cats', 'octopi', 'emus'를 키로 하고, 'Henri', 'Grumy', 'Lucy'를 값으로 하는 또 다른 딕셔너리를 참조하고 있다. 나머지 요소는 빈 딕셔너리를 참조한다."
   ],
   "cell_type": "markdown",
   "metadata": {}
  },
  {
   "cell_type": "code",
   "execution_count": 161,
   "metadata": {},
   "outputs": [],
   "source": [
    "life = {\n",
    "    'animals': {\n",
    "        'cats': 'Henri',\n",
    "        'octopi': 'Grumy',\n",
    "        'emus': 'Lucy',\n",
    "    },\n",
    "    'plants': {},\n",
    "    'other': {}\n",
    "}"
   ]
  },
  {
   "source": [
    "8.7 life 딕셔너리의 최상위 키를 출력해보자."
   ],
   "cell_type": "markdown",
   "metadata": {}
  },
  {
   "cell_type": "code",
   "execution_count": 163,
   "metadata": {},
   "outputs": [
    {
     "output_type": "stream",
     "name": "stdout",
     "text": [
      "animals\nplants\nother\n"
     ]
    }
   ],
   "source": [
    "for k, v in life.items():\n",
    "    print(k)"
   ]
  },
  {
   "source": [
    "8.8 ```life['animals']```의 모든 키를 출력해보자."
   ],
   "cell_type": "markdown",
   "metadata": {}
  },
  {
   "cell_type": "code",
   "execution_count": 164,
   "metadata": {},
   "outputs": [
    {
     "output_type": "stream",
     "name": "stdout",
     "text": [
      "cats\noctopi\nemus\n"
     ]
    }
   ],
   "source": [
    "for k, v in life['animals'].items():\n",
    "    print(k)"
   ]
  },
  {
   "source": [
    "8.9 ```life['animals']['cats']```의 모든 값을 출력해보자."
   ],
   "cell_type": "markdown",
   "metadata": {}
  },
  {
   "cell_type": "code",
   "execution_count": 167,
   "metadata": {},
   "outputs": [
    {
     "output_type": "execute_result",
     "data": {
      "text/plain": [
       "'Henri'"
      ]
     },
     "metadata": {},
     "execution_count": 167
    }
   ],
   "source": [
    "life['animals']['cats']"
   ]
  },
  {
   "source": [
    "8.10 딕셔너리 컴프리헨션으로 squares 딕셔너리를 생성한다. range(10)를 키로 하고, 각 키의 제곱을 값으로 한다."
   ],
   "cell_type": "markdown",
   "metadata": {}
  },
  {
   "cell_type": "code",
   "execution_count": 172,
   "metadata": {},
   "outputs": [
    {
     "output_type": "execute_result",
     "data": {
      "text/plain": [
       "{0: 0, 1: 1, 2: 4, 3: 9, 4: 16, 5: 25, 6: 36, 7: 49, 8: 64, 9: 81}"
      ]
     },
     "metadata": {},
     "execution_count": 172
    }
   ],
   "source": [
    "squares = {i: i*i for i in range(10)}\n",
    "squares"
   ]
  },
  {
   "source": [
    "8.11 셋 컴프리헨션을 이용하여 range(10)에서 홀수 셋을 만든다."
   ],
   "cell_type": "markdown",
   "metadata": {}
  },
  {
   "cell_type": "code",
   "execution_count": 187,
   "metadata": {},
   "outputs": [
    {
     "output_type": "execute_result",
     "data": {
      "text/plain": [
       "{1: 1, 3: 9, 5: 25, 7: 49, 9: 81}"
      ]
     },
     "metadata": {},
     "execution_count": 187
    }
   ],
   "source": [
    "{i: i*i for i in range(0, 10) if i % 2 == 1}"
   ]
  },
  {
   "source": [
    "8.12 제너레이터 컴프리헨션을 이용하여 문자열 'Got'과 range(10)의 각 숫자를 반환한다. for 문을 사용해서 제너레이터를 순회한다."
   ],
   "cell_type": "markdown",
   "metadata": {}
  },
  {
   "cell_type": "code",
   "execution_count": 196,
   "metadata": {},
   "outputs": [
    {
     "output_type": "stream",
     "name": "stdout",
     "text": [
      "['G', 'i', 't']\n"
     ]
    }
   ],
   "source": [
    "s1 = [i for i in 'Git']\n",
    "print(s1)"
   ]
  },
  {
   "cell_type": "code",
   "execution_count": 197,
   "metadata": {},
   "outputs": [
    {
     "output_type": "stream",
     "name": "stdout",
     "text": [
      "[0, 1, 2, 3, 4, 5, 6, 7, 8, 9]\n"
     ]
    }
   ],
   "source": [
    "n1 = [i for i in range(10)]\n",
    "print(n1)"
   ]
  },
  {
   "source": [
    "8.13 zip()을 사용해서 딕셔너리를 생성한다. 키로 ('optimist', 'pessimist', 'troll') 튜플을 사용하고 값으로 ('The glass is half full', 'The glass is half empty', 'How did you get a glass?') 튜플을 사용한다."
   ],
   "cell_type": "markdown",
   "metadata": {}
  },
  {
   "cell_type": "code",
   "execution_count": 183,
   "metadata": {},
   "outputs": [
    {
     "output_type": "stream",
     "name": "stdout",
     "text": [
      "{'optimist': 'The glass is half full', 'pessimist': 'The glass is half empty', 'troll': 'How did you get a glass?'}\n"
     ]
    }
   ],
   "source": [
    "s1 = ('optimist', 'pessimist', 'troll')\n",
    "s2 = ('The glass is half full', 'The glass is half empty', 'How did you get a glass?')\n",
    "d1 = dict(zip(s1, s2))\n",
    "print(d1)"
   ]
  },
  {
   "source": [
    "8.14 zip()을 사용해서 다음 두 리스트를 짝으로 하는 movies 딕셔너리를 만들어보자.\n",
    "titles = ['Creature of Habit', 'Crewel Fate']\n",
    "plots = ['A nun turns into a mon ster', 'A haunted yarn shop']"
   ],
   "cell_type": "markdown",
   "metadata": {}
  },
  {
   "cell_type": "code",
   "execution_count": 179,
   "metadata": {},
   "outputs": [
    {
     "output_type": "stream",
     "name": "stdout",
     "text": [
      "{'Creature of Habit': 'A nun turns into a mon ster', 'Crewel Fate': 'A haunted yarn shop'}\n"
     ]
    }
   ],
   "source": [
    "titles = ['Creature of Habit', 'Crewel Fate']\n",
    "plots = ['A nun turns into a mon ster', 'A haunted yarn shop']\n",
    "movies = dict(zip(titles, plots))\n",
    "print(movies)"
   ]
  }
 ]
}