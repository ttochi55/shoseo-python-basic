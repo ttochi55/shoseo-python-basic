{
 "metadata": {
  "language_info": {
   "codemirror_mode": {
    "name": "ipython",
    "version": 3
   },
   "file_extension": ".py",
   "mimetype": "text/x-python",
   "name": "python",
   "nbconvert_exporter": "python",
   "pygments_lexer": "ipython3",
   "version": "3.8.3-final"
  },
  "orig_nbformat": 2,
  "kernelspec": {
   "name": "Python 3.8.3 64-bit (conda)",
   "display_name": "Python 3.8.3 64-bit (conda)",
   "metadata": {
    "interpreter": {
     "hash": "b3ba2566441a7c06988d0923437866b63cedc61552a5af99d1f4fb67d367b25f"
    }
   }
  }
 },
 "nbformat": 4,
 "nbformat_minor": 2,
 "cells": [
  {
   "source": [
    "# 지뢰찾기"
   ],
   "cell_type": "markdown",
   "metadata": {}
  },
  {
   "cell_type": "code",
   "execution_count": 84,
   "metadata": {},
   "outputs": [
    {
     "output_type": "stream",
     "name": "stdout",
     "text": [
      ".........\n.........\n.........\n.........\n.........\n.........\n.........\n.........\n.........\n"
     ]
    }
   ],
   "source": [
    "row = 9\n",
    "col = 9\n",
    "for i in range(row):\n",
    "    for k in range(col):\n",
    "        print('.', end='')\n",
    "    print()"
   ]
  },
  {
   "cell_type": "code",
   "execution_count": 90,
   "metadata": {},
   "outputs": [
    {
     "output_type": "stream",
     "name": "stdout",
     "text": [
      ".....*..*\n......***\n.....**..\n....*....\n.........\n.........\n.........\n.........\n....*.*..\n"
     ]
    }
   ],
   "source": [
    "import random\n",
    "row = 9\n",
    "col = 9\n",
    "for i in range(row):\n",
    "    for k in range(col):\n",
    "        rand=random.randint(1, col)\n",
    "        if k == rand:\n",
    "        # if random.random > 0.6:\n",
    "            print('*', end='')\n",
    "        else:\n",
    "            print('.', end='')\n",
    "    print()"
   ]
  },
  {
   "cell_type": "code",
   "execution_count": 93,
   "metadata": {},
   "outputs": [
    {
     "output_type": "stream",
     "name": "stdout",
     "text": [
      "[['.', '*', '.', '.', '.', '.', '*', '.', '*'], ['.', '.', '.', '.', '.', '.', '*', '.', '.'], ['.', '.', '.', '.', '.', '.', '.', '*', '.'], ['.', '.', '.', '.', '.', '*', '.', '.', '*'], ['.', '.', '.', '.', '.', '*', '.', '.', '.'], ['.', '.', '.', '.', '*', '.', '.', '.', '.'], ['.', '.', '.', '.', '.', '.', '.', '.', '.'], ['.', '.', '.', '.', '.', '.', '.', '.', '.'], ['.', '.', '.', '.', '.', '.', '.', '.', '.']]\n"
     ]
    }
   ],
   "source": [
    "import random\n",
    "row = 9\n",
    "col = 9\n",
    "total = 0\n",
    "matrix = []\n",
    "for i in range(row):\n",
    "    matrix.append([])\n",
    "    for k in range(col):\n",
    "        rand=random.randint(1, col)\n",
    "        if k == rand:\n",
    "            total += 1\n",
    "            matrix[i].append('*')\n",
    "        else:\n",
    "            matrix[i].append('.')\n",
    "print(matrix)"
   ]
  },
  {
   "cell_type": "code",
   "execution_count": 112,
   "metadata": {},
   "outputs": [],
   "source": [
    "mines = []\n",
    "mines.append('...........')\n",
    "for i in range(9):\n",
    "    rows = ['.']\n",
    "    for k in range(9):\n",
    "        rows.append(matrix[i][k])\n",
    "    rows.append('.')\n",
    "    mines.append(rows)\n",
    "mines.append('...........')"
   ]
  },
  {
   "cell_type": "code",
   "execution_count": 113,
   "metadata": {},
   "outputs": [
    {
     "output_type": "stream",
     "name": "stdout",
     "text": [
      "...........\n..*....*.*.\n.......*...\n........*..\n......*..*.\n......*....\n.....*.....\n...........\n...........\n...........\n...........\n"
     ]
    }
   ],
   "source": [
    "for i in range(11):\n",
    "    for k in range(11):\n",
    "        print(mines[i][k], end='')\n",
    "    print()"
   ]
  },
  {
   "cell_type": "code",
   "execution_count": 119,
   "metadata": {},
   "outputs": [],
   "source": [
    "output = []\n",
    "for i in range(1, 10):\n",
    "    rows = []\n",
    "    for k in range(1, 10):\n",
    "        if mines[i][k] == '*':\n",
    "            rows.append('*')\n",
    "        else:\n",
    "            count = (mines[i-1][k-1] == '*') \\\n",
    "                + (mines[i-1][k] == '*') \\\n",
    "                + (mines[i-1][k+1] == '*') \\\n",
    "                + (mines[i+1][k-1] == '*') \\\n",
    "                + (mines[i+1][k] == '*') \\\n",
    "                + (mines[i+1][k+1] == '*') \\\n",
    "                + (mines[i][k-1] == '*') \\\n",
    "                + (mines[i][k+1] == '*')\n",
    "            rows.append(str(count))\n",
    "    output.append(rows)"
   ]
  },
  {
   "cell_type": "code",
   "execution_count": 120,
   "metadata": {},
   "outputs": [
    {
     "output_type": "stream",
     "name": "stdout",
     "text": [
      "1*1002*3*\n111002*42\n0000123*2\n00002*32*\n00013*211\n0001*2100\n000111000\n000000000\n000000000\n"
     ]
    }
   ],
   "source": [
    "for i in range(9):\n",
    "    for k in range(9):\n",
    "        print(output[i][k], end='')\n",
    "    print()"
   ]
  }
 ]
}