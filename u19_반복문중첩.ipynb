{
 "metadata": {
  "language_info": {
   "codemirror_mode": {
    "name": "ipython",
    "version": 3
   },
   "file_extension": ".py",
   "mimetype": "text/x-python",
   "name": "python",
   "nbconvert_exporter": "python",
   "pygments_lexer": "ipython3",
   "version": "3.8.3-final"
  },
  "orig_nbformat": 2,
  "kernelspec": {
   "name": "Python 3.8.3 64-bit (conda)",
   "display_name": "Python 3.8.3 64-bit (conda)",
   "metadata": {
    "interpreter": {
     "hash": "b3ba2566441a7c06988d0923437866b63cedc61552a5af99d1f4fb67d367b25f"
    }
   }
  }
 },
 "nbformat": 4,
 "nbformat_minor": 2,
 "cells": [
  {
   "source": [
    "# Unit 19. 계단식으로 별 출력하기\n",
    "\n",
    "## 중첩 반복문"
   ],
   "cell_type": "markdown",
   "metadata": {}
  },
  {
   "cell_type": "code",
   "execution_count": 7,
   "metadata": {},
   "outputs": [
    {
     "output_type": "stream",
     "name": "stdout",
     "text": [
      "k:0 k:1 k:2 k:3 k:4 i:0\\n\nk:0 k:1 k:2 k:3 k:4 i:1\\n\nk:0 k:1 k:2 k:3 k:4 i:2\\n\nk:0 k:1 k:2 k:3 k:4 i:3\\n\nk:0 k:1 k:2 k:3 k:4 i:4\\n\n"
     ]
    }
   ],
   "source": [
    "for i in range(5):\n",
    "    for k in range(5):\n",
    "        print('k:', k, sep='', end=' ')\n",
    "    print('i:', i, '\\\\n', sep='')"
   ]
  },
  {
   "cell_type": "code",
   "execution_count": 15,
   "metadata": {},
   "outputs": [
    {
     "output_type": "stream",
     "name": "stdout",
     "text": [
      "* * * * * \n* * * * * \n* * * * * \n* * * * * \n* * * * * \n"
     ]
    }
   ],
   "source": [
    "for i in range(5):\n",
    "    for k in range(5):\n",
    "        print('*', end=' ')\n",
    "    print()"
   ]
  },
  {
   "cell_type": "code",
   "execution_count": 18,
   "metadata": {},
   "outputs": [
    {
     "output_type": "stream",
     "name": "stdout",
     "text": [
      "* \n* * \n* * * \n* * * * \n* * * * * \n"
     ]
    }
   ],
   "source": [
    "# 1 사분면\n",
    "for i in range(5):\n",
    "    for k in range(i+1):\n",
    "        print('*', end=' ')\n",
    "    print()"
   ]
  },
  {
   "cell_type": "code",
   "execution_count": 74,
   "metadata": {},
   "outputs": [
    {
     "output_type": "stream",
     "name": "stdout",
     "text": [
      "* * * * * \n* * * * \n* * * \n* * \n* \n"
     ]
    }
   ],
   "source": [
    "# 4 사분면\n",
    "for i in reversed(range(5)):\n",
    "    for k in range(i+1):\n",
    "        print('*', end=' ')\n",
    "    print()"
   ]
  },
  {
   "cell_type": "code",
   "execution_count": 77,
   "metadata": {},
   "outputs": [
    {
     "output_type": "stream",
     "name": "stdout",
     "text": [
      "* \n* * \n* * * \n* * * * \n* * * * * \n* * * * \n* * * \n* * \n* \n"
     ]
    }
   ],
   "source": [
    "# 1 사분면\n",
    "for i in range(5):\n",
    "    for k in range(i+1):\n",
    "        print('*', end=' ')\n",
    "    print()\n",
    "# 4 사분면\n",
    "for i in reversed(range(4)):\n",
    "    for k in range(i+1):\n",
    "        print('*', end=' ')\n",
    "    print()"
   ]
  },
  {
   "cell_type": "code",
   "execution_count": 24,
   "metadata": {},
   "outputs": [
    {
     "output_type": "stream",
     "name": "stdout",
     "text": [
      "        * \n      * * \n    * * * \n  * * * * \n* * * * * \n"
     ]
    }
   ],
   "source": [
    "# 2 사분면\n",
    "for i in range(5):\n",
    "    for k in range(4-i):\n",
    "        print(' ', end=' ')\n",
    "    for k in range(i+1):\n",
    "        print('*', end=' ')\n",
    "    print()"
   ]
  },
  {
   "cell_type": "code",
   "execution_count": 75,
   "metadata": {},
   "outputs": [
    {
     "output_type": "stream",
     "name": "stdout",
     "text": [
      "* * * * * \n  * * * * \n    * * * \n      * * \n        * \n"
     ]
    }
   ],
   "source": [
    "# 4 사분면\n",
    "for i in reversed(range(5)):\n",
    "    for k in range(4-i):\n",
    "        print(' ', end=' ')\n",
    "    for k in range(i+1):\n",
    "        print('*', end=' ')\n",
    "    print()"
   ]
  },
  {
   "cell_type": "code",
   "execution_count": 78,
   "metadata": {},
   "outputs": [
    {
     "output_type": "stream",
     "name": "stdout",
     "text": [
      "        * \n      * * \n    * * * \n  * * * * \n* * * * * \n  * * * * \n    * * * \n      * * \n        * \n"
     ]
    }
   ],
   "source": [
    "# 2 사분면\n",
    "for i in range(5):\n",
    "    for k in range(4-i):\n",
    "        print(' ', end=' ')\n",
    "    for k in range(i+1):\n",
    "        print('*', end=' ')\n",
    "    print()\n",
    "# 4 사분면\n",
    "for i in reversed(range(4)):\n",
    "    for k in range(4-i):\n",
    "        print(' ', end=' ')\n",
    "    for k in range(i+1):\n",
    "        print('*', end=' ')\n",
    "    print()"
   ]
  },
  {
   "cell_type": "code",
   "execution_count": 28,
   "metadata": {},
   "outputs": [
    {
     "output_type": "stream",
     "name": "stdout",
     "text": [
      "* * * * * \n  * * * * \n    * * * \n      * * \n        * \n"
     ]
    }
   ],
   "source": [
    "# 3 사분면\n",
    "for i in range(5):\n",
    "    for k in range(i):\n",
    "        print(' ', end=' ')\n",
    "    for k in range(5-i):\n",
    "        print('*', end=' ')\n",
    "    print()"
   ]
  },
  {
   "cell_type": "code",
   "execution_count": 30,
   "metadata": {},
   "outputs": [
    {
     "output_type": "stream",
     "name": "stdout",
     "text": [
      "* * * * * \n* * * * \n* * * \n* * \n* \n"
     ]
    }
   ],
   "source": [
    "# 4 사분면\n",
    "for i in range(5):\n",
    "    for k in range(5-i):\n",
    "        print('*', end=' ')\n",
    "    print()"
   ]
  },
  {
   "cell_type": "code",
   "execution_count": 72,
   "metadata": {},
   "outputs": [
    {
     "output_type": "stream",
     "name": "stdout",
     "text": [
      "        * \n      * * * \n    * * * * * \n  * * * * * * * \n* * * * * * * * * \n  * * * * * * * \n    * * * * * \n      * * * \n        * \n"
     ]
    }
   ],
   "source": [
    "# 다이아몬드\n",
    "n=5\n",
    "for i in range(n):\n",
    "    # 2 사분면\n",
    "    for k in range(n-1-i):\n",
    "        print(' ', end=' ')\n",
    "    for k in range(i+1):\n",
    "        print('*', end=' ')\n",
    "    # 1 사분면\n",
    "    for k in range(i):\n",
    "        print('*', end=' ')\n",
    "    print()\n",
    "for i in reversed(range(n-1)):\n",
    "    # 3 사분면\n",
    "    for k in range(n-1-i):\n",
    "        print(' ', end=' ')\n",
    "    for k in range(i+1):\n",
    "        print('*', end=' ')\n",
    "    # 4 사분면\n",
    "    for k in range(i):\n",
    "        print('*', end=' ')\n",
    "    print()"
   ]
  }
 ]
}