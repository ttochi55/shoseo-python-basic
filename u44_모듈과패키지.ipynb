{
 "metadata": {
  "language_info": {
   "codemirror_mode": {
    "name": "ipython",
    "version": 3
   },
   "file_extension": ".py",
   "mimetype": "text/x-python",
   "name": "python",
   "nbconvert_exporter": "python",
   "pygments_lexer": "ipython3",
   "version": "3.8.3-final"
  },
  "orig_nbformat": 2,
  "kernelspec": {
   "name": "Python 3.8.3 64-bit (conda)",
   "display_name": "Python 3.8.3 64-bit (conda)",
   "metadata": {
    "interpreter": {
     "hash": "b3ba2566441a7c06988d0923437866b63cedc61552a5af99d1f4fb67d367b25f"
    }
   }
  }
 },
 "nbformat": 4,
 "nbformat_minor": 2,
 "cells": [
  {
   "source": [
    "# Unit 44. 모듈과 패키지 사용하기"
   ],
   "cell_type": "markdown",
   "metadata": {}
  },
  {
   "source": [
    "### 44.1 import로 모듈 가져오기"
   ],
   "cell_type": "markdown",
   "metadata": {}
  },
  {
   "cell_type": "code",
   "execution_count": 4,
   "metadata": {},
   "outputs": [],
   "source": [
    "import math"
   ]
  },
  {
   "cell_type": "code",
   "execution_count": 14,
   "metadata": {},
   "outputs": [
    {
     "output_type": "stream",
     "name": "stdout",
     "text": [
      "3.141592653589793 2.0\n"
     ]
    }
   ],
   "source": [
    "# 원주율, 제곱근 함수\n",
    "print(math.pi, math.sqrt(4.0))"
   ]
  },
  {
   "source": [
    "### 44.1.1  import as로 모듈 이름 지정하기"
   ],
   "cell_type": "markdown",
   "metadata": {}
  },
  {
   "cell_type": "code",
   "execution_count": 11,
   "metadata": {},
   "outputs": [],
   "source": [
    "import math as m"
   ]
  },
  {
   "cell_type": "code",
   "execution_count": 13,
   "metadata": {},
   "outputs": [
    {
     "output_type": "stream",
     "name": "stdout",
     "text": [
      "3.141592653589793 2.0\n"
     ]
    }
   ],
   "source": [
    "print(m.pi, m.sqrt(4.0))"
   ]
  },
  {
   "source": [
    "### 자주 사용되는 패키지\n",
    "\n",
    "```\n",
    "import numpy as np\n",
    "import pandas as pd\n",
    "import matplotlib.pyplot as plt\n",
    "import tensorflow as tf\n",
    "import scikit-learn as sklearn\n",
    "import seaborn as sns\n",
    "```"
   ],
   "cell_type": "markdown",
   "metadata": {}
  },
  {
   "source": [
    "### 44.1.2  from import로 모듈의 일부만 가져오기"
   ],
   "cell_type": "markdown",
   "metadata": {}
  },
  {
   "cell_type": "code",
   "execution_count": 16,
   "metadata": {},
   "outputs": [
    {
     "output_type": "stream",
     "name": "stdout",
     "text": [
      "3.141592653589793 2.0\n"
     ]
    }
   ],
   "source": [
    "from math import pi, sqrt\n",
    "print(pi, sqrt(4.0))"
   ]
  },
  {
   "cell_type": "code",
   "execution_count": 17,
   "metadata": {},
   "outputs": [
    {
     "output_type": "execute_result",
     "data": {
      "text/plain": [
       "(1.0, 0.0, -2.4492935982947064e-16)"
      ]
     },
     "metadata": {},
     "execution_count": 17
    }
   ],
   "source": [
    "# 다음은 math 모듈의 모든 변수, 함수, 클래스를 가져옵니다.\n",
    "from math import *\n",
    "exp(0), log(1), sin(2*pi)"
   ]
  },
  {
   "source": [
    "### 44.1.3  from import로 모듈의 일부를 가져온 뒤 이름 지정하기"
   ],
   "cell_type": "markdown",
   "metadata": {}
  },
  {
   "cell_type": "code",
   "execution_count": 20,
   "metadata": {},
   "outputs": [
    {
     "output_type": "execute_result",
     "data": {
      "text/plain": [
       "(3.141592653589793, 2.0)"
      ]
     },
     "metadata": {},
     "execution_count": 20
    }
   ],
   "source": [
    "from math import pi as p, sqrt as s\n",
    "p, s(4.0)"
   ]
  },
  {
   "source": [
    "### 44.2 import로 패키지 가져오기\n",
    "\n",
    "패키지는 특정 기능과 관련된 여러 모듈을 묶은 것인데, 패키지에 들어있는 모듈도 import를 사용하여 가져옵니다."
   ],
   "cell_type": "markdown",
   "metadata": {}
  },
  {
   "cell_type": "code",
   "execution_count": 22,
   "metadata": {},
   "outputs": [
    {
     "output_type": "execute_result",
     "data": {
      "text/plain": [
       "200"
      ]
     },
     "metadata": {},
     "execution_count": 22
    }
   ],
   "source": [
    "# urllib은 URL 처리에 관련된 모듈을 모아 놓은 패키지입니다\n",
    "import urllib.request\n",
    "response = urllib.request.urlopen('http://www.google.co.kr')\n",
    "response.status"
   ]
  },
  {
   "source": [
    "### 44.2.1  import as로 패키지 모듈 이름 지정하기"
   ],
   "cell_type": "markdown",
   "metadata": {}
  },
  {
   "cell_type": "code",
   "execution_count": 26,
   "metadata": {},
   "outputs": [
    {
     "output_type": "execute_result",
     "data": {
      "text/plain": [
       "200"
      ]
     },
     "metadata": {},
     "execution_count": 26
    }
   ],
   "source": [
    "# urllib 패키지의 request 모듈을 가져오면서 이름을 r로 지정\n",
    "import urllib.request as r\n",
    "# r로 urlopen 함수 사용\n",
    "response = r.urlopen('http://www.google.co.kr')\n",
    "response.status"
   ]
  },
  {
   "source": [
    "### 44.2.2  from import로 패키지의 모듈에서 일부만 가져오기"
   ],
   "cell_type": "markdown",
   "metadata": {}
  },
  {
   "cell_type": "code",
   "execution_count": 27,
   "metadata": {},
   "outputs": [
    {
     "output_type": "execute_result",
     "data": {
      "text/plain": [
       "200"
      ]
     },
     "metadata": {},
     "execution_count": 27
    }
   ],
   "source": [
    "# urlopen 함수, Request 클래스를 가져옴\n",
    "from urllib.request import Request, urlopen\n",
    "# Request 클래스를 사용하여 req 생성\n",
    "req = Request('http://www.google.co.kr')\n",
    "# urlopen 함수 사용\n",
    "response = urlopen(req)\n",
    "response.status"
   ]
  },
  {
   "cell_type": "code",
   "execution_count": 29,
   "metadata": {},
   "outputs": [
    {
     "output_type": "execute_result",
     "data": {
      "text/plain": [
       "200"
      ]
     },
     "metadata": {},
     "execution_count": 29
    }
   ],
   "source": [
    "# urllib의 request 모듈에서 모든 변수, 함수, 클래스를 가져옴\n",
    "from urllib.request import *\n",
    "# Request를 사용하여 req 생성\n",
    "req = Request('http://www.google.co.kr')\n",
    "# urlopen 함수 사용\n",
    "response = urlopen(req)\n",
    "response.status"
   ]
  },
  {
   "source": [
    "### 44.3 파이썬 패키지 인덱스에서 패키지 설치하기\n",
    "\n",
    "```\n",
    "$ npm install -g\n",
    "$ pip install\n",
    "```\n",
    "\n",
    "```\n",
    "$ npm install --save-dev\n",
    "$ conda install\n",
    "```"
   ],
   "cell_type": "markdown",
   "metadata": {}
  },
  {
   "source": [
    "conda란 의존성 패키지 관리하는 프로세스이다.\n",
    "\n",
    "가상 환경 설정 목록\n",
    "\n",
    "```\n",
    "$ conda env list\n",
    "```"
   ],
   "cell_type": "markdown",
   "metadata": {}
  },
  {
   "source": [
    "### 참고 | 패키지 검색, 버전 지정, 목록 출력, 삭제\n",
    "\n",
    "pip search 패키지: 패키지 검색   \n",
    "pip install 패키지==버전: 특정 버전의 패키지를 설치(예: pip install requests==2.9.0)   \n",
    "pip list 또는 pip freeze: 패키지 목록 출력   \n",
    "pip uninstall 패키지: 패키지 삭제   "
   ],
   "cell_type": "markdown",
   "metadata": {}
  },
  {
   "cell_type": "code",
   "execution_count": 39,
   "metadata": {},
   "outputs": [
    {
     "output_type": "execute_result",
     "data": {
      "text/plain": [
       "200"
      ]
     },
     "metadata": {},
     "execution_count": 39
    }
   ],
   "source": [
    "import requests\n",
    "response = requests.get('http://www.google.co.kr')\n",
    "response.status_code\n",
    "# response.text"
   ]
  },
  {
   "cell_type": "code",
   "execution_count": 45,
   "metadata": {},
   "outputs": [],
   "source": [
    "import requests\n",
    "url = 'https://www.melon.com/chart/week/index.htm?classCd=GN0100'\n",
    "header = {'User-Agent': 'Mozilla/5.0 (Windows NT 6.3; Trident/7.0; rv:11.0) like Gecko'}\n",
    "response = requests.get(url, headers = header)\n",
    "# response.status_code\n",
    "html = response.text"
   ]
  },
  {
   "cell_type": "code",
   "execution_count": 47,
   "metadata": {},
   "outputs": [],
   "source": [
    "# print(html)"
   ]
  },
  {
   "source": [
    "### 44.5 연습문제: 소수점 이하 올림, 버림 구하기\n",
    "\n",
    "다음 소스 코드를 완성하여 소수점 이하를 올림, 버림한 숫자가 출력되게 만드세요. 올림 함수는 math 모듈의 ceil, 버림 함수는 math 모듈의 floor 함수입니다."
   ],
   "cell_type": "markdown",
   "metadata": {}
  },
  {
   "cell_type": "code",
   "execution_count": 50,
   "metadata": {},
   "outputs": [
    {
     "output_type": "stream",
     "name": "stdout",
     "text": [
      "2 1\n"
     ]
    }
   ],
   "source": [
    "from math import ceil, floor\n",
    "x = 1.5\n",
    "print(ceil(x), floor(x))"
   ]
  },
  {
   "source": [
    "### 44.6 심사문제: 원의 넓이 구하기\n",
    "\n",
    "표준 입력으로 원의 반지름(실수)이 입력됩니다. 입력된 반지름을 이용하여 원의 넓이를 출력하는 프로그램을 만드세요(input에서 안내 문자열은 출력하지 않아야 합니다). 원의 넓이는 반지름 * 반지름 * 원주율로 구합니다."
   ],
   "cell_type": "markdown",
   "metadata": {}
  },
  {
   "cell_type": "code",
   "execution_count": 55,
   "metadata": {},
   "outputs": [
    {
     "output_type": "stream",
     "name": "stdout",
     "text": [
      "314.1592653589793\n"
     ]
    }
   ],
   "source": [
    "from math import pi\n",
    "n = float(input())\n",
    "print(n * n * pi)"
   ]
  }
 ]
}