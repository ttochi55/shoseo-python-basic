{
 "metadata": {
  "language_info": {
   "codemirror_mode": {
    "name": "ipython",
    "version": 3
   },
   "file_extension": ".py",
   "mimetype": "text/x-python",
   "name": "python",
   "nbconvert_exporter": "python",
   "pygments_lexer": "ipython3",
   "version": "3.8.3-final"
  },
  "orig_nbformat": 2,
  "kernelspec": {
   "name": "Python 3.8.3 64-bit (conda)",
   "display_name": "Python 3.8.3 64-bit (conda)",
   "metadata": {
    "interpreter": {
     "hash": "b3ba2566441a7c06988d0923437866b63cedc61552a5af99d1f4fb67d367b25f"
    }
   }
  }
 },
 "nbformat": 4,
 "nbformat_minor": 2,
 "cells": [
  {
   "source": [
    "# Unit 32. 람다 표현식 사용하기"
   ],
   "cell_type": "markdown",
   "metadata": {}
  },
  {
   "source": [
    "### 32.1 람다 표현식으로 함수 만들기"
   ],
   "cell_type": "markdown",
   "metadata": {}
  },
  {
   "cell_type": "code",
   "execution_count": 2,
   "metadata": {},
   "outputs": [],
   "source": [
    "def plus_ten(x):\n",
    "    return x + 10"
   ]
  },
  {
   "cell_type": "code",
   "execution_count": 6,
   "metadata": {},
   "outputs": [
    {
     "output_type": "execute_result",
     "data": {
      "text/plain": [
       "30"
      ]
     },
     "metadata": {},
     "execution_count": 6
    }
   ],
   "source": [
    "plus_ten(20)"
   ]
  },
  {
   "cell_type": "code",
   "execution_count": 7,
   "metadata": {},
   "outputs": [
    {
     "output_type": "execute_result",
     "data": {
      "text/plain": [
       "30"
      ]
     },
     "metadata": {},
     "execution_count": 7
    }
   ],
   "source": [
    "lambda_ten = lambda x: x + 10\n",
    "lambda_ten(20)"
   ]
  },
  {
   "source": [
    "### 32.1.1  람다 표현식 자체를 호출하기"
   ],
   "cell_type": "markdown",
   "metadata": {}
  },
  {
   "cell_type": "code",
   "execution_count": 9,
   "metadata": {},
   "outputs": [
    {
     "output_type": "execute_result",
     "data": {
      "text/plain": [
       "11"
      ]
     },
     "metadata": {},
     "execution_count": 9
    }
   ],
   "source": [
    "(lambda x: x + 10)(1)"
   ]
  },
  {
   "source": [
    "### 32.1.2  람다 표현식 안에서는 변수를 만들 수 없다"
   ],
   "cell_type": "markdown",
   "metadata": {}
  },
  {
   "cell_type": "code",
   "execution_count": 11,
   "metadata": {},
   "outputs": [
    {
     "output_type": "error",
     "ename": "SyntaxError",
     "evalue": "invalid syntax (<ipython-input-11-f39371b7f7d5>, line 1)",
     "traceback": [
      "\u001b[1;36m  File \u001b[1;32m\"<ipython-input-11-f39371b7f7d5>\"\u001b[1;36m, line \u001b[1;32m1\u001b[0m\n\u001b[1;33m    (lambda x: y = 10; x + y)(1)\u001b[0m\n\u001b[1;37m                 ^\u001b[0m\n\u001b[1;31mSyntaxError\u001b[0m\u001b[1;31m:\u001b[0m invalid syntax\n"
     ]
    }
   ],
   "source": [
    "(lambda x: y = 10; x + y)(1)"
   ]
  },
  {
   "source": [
    "### 32.1.3  람다 표현식을 인수로 사용하기"
   ],
   "cell_type": "markdown",
   "metadata": {}
  },
  {
   "cell_type": "code",
   "execution_count": 13,
   "metadata": {},
   "outputs": [
    {
     "output_type": "execute_result",
     "data": {
      "text/plain": [
       "[11, 12, 13]"
      ]
     },
     "metadata": {},
     "execution_count": 13
    }
   ],
   "source": [
    "def plus_ten(x):\n",
    "    return x + 10\n",
    "list(map(plus_ten, [1, 2, 3]))"
   ]
  },
  {
   "cell_type": "code",
   "execution_count": 14,
   "metadata": {},
   "outputs": [
    {
     "output_type": "execute_result",
     "data": {
      "text/plain": [
       "[11, 12, 13]"
      ]
     },
     "metadata": {},
     "execution_count": 14
    }
   ],
   "source": [
    "list(map(lambda x: x + 10, [1, 2, 3]))"
   ]
  },
  {
   "source": [
    "### 람다 표현식으로 매개변수가 없는 함수 만들기"
   ],
   "cell_type": "markdown",
   "metadata": {}
  },
  {
   "cell_type": "code",
   "execution_count": 18,
   "metadata": {},
   "outputs": [
    {
     "output_type": "execute_result",
     "data": {
      "text/plain": [
       "1"
      ]
     },
     "metadata": {},
     "execution_count": 18
    }
   ],
   "source": [
    "(lambda : 1)()"
   ]
  },
  {
   "cell_type": "code",
   "execution_count": 21,
   "metadata": {},
   "outputs": [
    {
     "output_type": "execute_result",
     "data": {
      "text/plain": [
       "10"
      ]
     },
     "metadata": {},
     "execution_count": 21
    }
   ],
   "source": [
    "x = 10\n",
    "(lambda : x)()"
   ]
  },
  {
   "source": [
    "### 32.2.1  람다 표현식에 조건부 표현식 사용하기"
   ],
   "cell_type": "markdown",
   "metadata": {}
  },
  {
   "source": [
    "### 3항 연산자\n",
    "- NodeJS: 조건식 ? 참일때 값 : 거짓일때 값\n",
    "- Python: 참일때 값 if 조건식 else 거짓일때 값"
   ],
   "cell_type": "markdown",
   "metadata": {}
  },
  {
   "cell_type": "code",
   "execution_count": 27,
   "metadata": {},
   "outputs": [
    {
     "output_type": "stream",
     "name": "stdout",
     "text": [
      "12\n"
     ]
    }
   ],
   "source": [
    "x = 12\n",
    "y = 0\n",
    "if x >= 10:\n",
    "    y = x\n",
    "else:\n",
    "    y = 10\n",
    "print(y)"
   ]
  },
  {
   "cell_type": "code",
   "execution_count": 30,
   "metadata": {},
   "outputs": [
    {
     "output_type": "execute_result",
     "data": {
      "text/plain": [
       "10"
      ]
     },
     "metadata": {},
     "execution_count": 30
    }
   ],
   "source": [
    "x, y = 8, 0\n",
    "y = x if x >= 10 else 10\n",
    "y"
   ]
  },
  {
   "source": [
    "### ReLU(Rectified Linear Unit) - 정류한 선형 유닛\n",
    "1. Sparse activation : 0이하의 입력에 대해 0을 출력함으로 부분적으로 활성화 시킬수 있다.\n",
    "2. Efficient gradient propagtion : gradient의 vanishing이 없으며 gradient가 exploding 되지 않는다.\n",
    "3. Efficient computation : 선형함수이므로 미분 계산이 매우 간단하다.\n",
    "\n",
    "```\n",
    "y = x, x >= 0\n",
    "y = 0, x < 0\n",
    "```"
   ],
   "cell_type": "markdown",
   "metadata": {}
  },
  {
   "cell_type": "code",
   "execution_count": 32,
   "metadata": {},
   "outputs": [
    {
     "output_type": "execute_result",
     "data": {
      "text/plain": [
       "0"
      ]
     },
     "metadata": {},
     "execution_count": 32
    }
   ],
   "source": [
    "relu = lambda x: x if x >= 0 else 0\n",
    "relu(-3)"
   ]
  },
  {
   "cell_type": "code",
   "execution_count": 33,
   "metadata": {},
   "outputs": [
    {
     "output_type": "execute_result",
     "data": {
      "text/plain": [
       "4"
      ]
     },
     "metadata": {},
     "execution_count": 33
    }
   ],
   "source": [
    "relu(4)"
   ]
  },
  {
   "source": [
    "### 32.2.2  map에 객체를 여러 개 넣기"
   ],
   "cell_type": "markdown",
   "metadata": {}
  },
  {
   "cell_type": "code",
   "execution_count": 39,
   "metadata": {},
   "outputs": [
    {
     "output_type": "execute_result",
     "data": {
      "text/plain": [
       "[2, 8, 18, 32, 50]"
      ]
     },
     "metadata": {},
     "execution_count": 39
    }
   ],
   "source": [
    "a = [1, 2, 3, 4, 5]\n",
    "b = [2, 4, 6, 8, 10]\n",
    "list(map(lambda x, y: x * y, a, b))"
   ]
  },
  {
   "source": [
    "### 32.2.3  filter 사용하기"
   ],
   "cell_type": "markdown",
   "metadata": {}
  },
  {
   "cell_type": "code",
   "execution_count": 50,
   "metadata": {},
   "outputs": [
    {
     "output_type": "execute_result",
     "data": {
      "text/plain": [
       "[6, 8]"
      ]
     },
     "metadata": {},
     "execution_count": 50
    }
   ],
   "source": [
    "def f(x):\n",
    "    return 5 < x < 10\n",
    "    # return x > 5 and x < 10\n",
    "a = [2, 4, 6, 8, 10, 12]\n",
    "list(filter(f, a))"
   ]
  },
  {
   "cell_type": "code",
   "execution_count": 52,
   "metadata": {},
   "outputs": [
    {
     "output_type": "execute_result",
     "data": {
      "text/plain": [
       "[6, 8]"
      ]
     },
     "metadata": {},
     "execution_count": 52
    }
   ],
   "source": [
    "a = [2, 4, 6, 8, 10, 12]\n",
    "list(filter(lambda x: 5 < x < 10, a))"
   ]
  },
  {
   "source": [
    "### 참고 | map, filter, reduce와 리스트 표현식\n",
    "리스트(딕셔너리, 세트) 표현식으로 처리할 수 있는 경우에는 map, filter와 람다 표현식 대신 리스트 표현식을 사용하는 것이 좋습니다.   \n",
    "\n",
    "리스트 표현식이 좀 더 알아보기 쉽고 속도도 더 빠릅니다.   "
   ],
   "cell_type": "markdown",
   "metadata": {}
  },
  {
   "cell_type": "code",
   "execution_count": 57,
   "metadata": {},
   "outputs": [
    {
     "output_type": "execute_result",
     "data": {
      "text/plain": [
       "[6, 8]"
      ]
     },
     "metadata": {},
     "execution_count": 57
    }
   ],
   "source": [
    "a = [2, 4, 6, 8, 10, 12]\n",
    "b = [x for x in a if 5 < x < 10]\n",
    "b"
   ]
  },
  {
   "source": [
    "### 32.4 연습문제: 이미지 파일만 가져오기\n",
    "\n",
    "다음 소스 코드를 완성하여 확장자가 .jpg, .png인 이미지 파일만 출력되게 만드세요. 여기서는 람다 표현식을 사용해야 하며 출력 결과는 리스트 형태라야 합니다. 람다 표현식에서 확장자를 검사할 때는 문자열 메서드를 활용하세요."
   ],
   "cell_type": "markdown",
   "metadata": {}
  },
  {
   "cell_type": "code",
   "execution_count": 64,
   "metadata": {},
   "outputs": [
    {
     "output_type": "execute_result",
     "data": {
      "text/plain": [
       "['1.png', '10.jpg', '2.jpg', '3.png']"
      ]
     },
     "metadata": {},
     "execution_count": 64
    }
   ],
   "source": [
    "files = ['font', '1.png', '10.jpg', '11.gif', '2.jpg', '3.png', 'table.xslx', 'spec.docx']\n",
    "\n",
    "list(filter(lambda x: x.find('.jpg') != -1 or x.find('.png') != -1, files))"
   ]
  },
  {
   "cell_type": "code",
   "execution_count": 67,
   "metadata": {},
   "outputs": [
    {
     "output_type": "execute_result",
     "data": {
      "text/plain": [
       "['1.png', '10.jpg', '2.jpg', '3.png']"
      ]
     },
     "metadata": {},
     "execution_count": 67
    }
   ],
   "source": [
    "list(filter(lambda x: '.jpg' in x or '.png' in x, files))"
   ]
  },
  {
   "source": [
    "### 32.5 심사문제: 파일 이름을 한꺼번에 바꾸기\n",
    "\n",
    "표준 입력으로 숫자.확장자 형식으로 된 파일 이름 여러 개가 입력됩니다. 다음 소스 코드를 완성하여 파일 이름이 숫자 3개이면서 앞에 0이 들어가는 형식으로 출력되게 만드세요. 예를 들어 1.png는 001.png, 99.docx는 099.docx, 100.xlsx는 100.xlsx처럼 출력되어야 합니다. 그리고 람다 표현식을 사용해야 하며 출력 결과는 리스트 형태라야 합니다. 람다 표현식에서 파일명을 처리할 때는 문자열 포매팅과 문자열 메서드를 활용하세요."
   ],
   "cell_type": "markdown",
   "metadata": {}
  },
  {
   "cell_type": "code",
   "execution_count": 85,
   "metadata": {},
   "outputs": [
    {
     "output_type": "execute_result",
     "data": {
      "text/plain": [
       "['97.xlsx', '98.docx', '99.docx', '100.xlsx', '101.docx', '102.docx']"
      ]
     },
     "metadata": {},
     "execution_count": 85
    }
   ],
   "source": [
    "# files = input().split()\n",
    "# files = '1.jpg 10.png 11.png 2.jpg 3.png'.split()\n",
    "files = '97.xlsx 98.docx 99.docx 100.xlsx 101.docx 102.docx'.split()\n",
    "files"
   ]
  },
  {
   "cell_type": "code",
   "execution_count": 87,
   "metadata": {},
   "outputs": [
    {
     "output_type": "execute_result",
     "data": {
      "text/plain": [
       "['097.xlsx', '098.docx', '099.docx', '100.xlsx', '101.docx', '102.docx']"
      ]
     },
     "metadata": {},
     "execution_count": 87
    }
   ],
   "source": [
    "list(map(lambda x: x.split('.')[0].zfill(3) + '.' + x.split('.')[-1], files))"
   ]
  },
  {
   "cell_type": "code",
   "execution_count": 86,
   "metadata": {},
   "outputs": [
    {
     "output_type": "execute_result",
     "data": {
      "text/plain": [
       "['097.xlsx', '098.docx', '099.docx', '100.xlsx', '101.docx', '102.docx']"
      ]
     },
     "metadata": {},
     "execution_count": 86
    }
   ],
   "source": [
    "list(map(lambda x: f\"{x.split('.')[0].zfill(3)}.{x.split('.')[-1]}\", files))"
   ]
  }
 ]
}