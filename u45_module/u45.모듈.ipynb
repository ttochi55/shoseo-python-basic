{
 "metadata": {
  "language_info": {
   "codemirror_mode": {
    "name": "ipython",
    "version": 3
   },
   "file_extension": ".py",
   "mimetype": "text/x-python",
   "name": "python",
   "nbconvert_exporter": "python",
   "pygments_lexer": "ipython3",
   "version": "3.8.3-final"
  },
  "orig_nbformat": 2,
  "kernelspec": {
   "name": "Python 3.8.3 64-bit (conda)",
   "display_name": "Python 3.8.3 64-bit (conda)",
   "metadata": {
    "interpreter": {
     "hash": "b3ba2566441a7c06988d0923437866b63cedc61552a5af99d1f4fb67d367b25f"
    }
   }
  }
 },
 "nbformat": 4,
 "nbformat_minor": 2,
 "cells": [
  {
   "source": [
    "# Unit 45. 모듈과 패키지 만들기"
   ],
   "cell_type": "markdown",
   "metadata": {}
  },
  {
   "source": [
    "### 45.1 모듈 만들기\n",
    "### 45.1.1  모듈 사용하기"
   ],
   "cell_type": "markdown",
   "metadata": {}
  },
  {
   "cell_type": "code",
   "execution_count": 1,
   "metadata": {},
   "outputs": [
    {
     "output_type": "execute_result",
     "data": {
      "text/plain": [
       "1024"
      ]
     },
     "metadata": {},
     "execution_count": 1
    }
   ],
   "source": [
    "import square2 as s2\n",
    "s2.square(10)"
   ]
  },
  {
   "cell_type": "code",
   "execution_count": 2,
   "metadata": {},
   "outputs": [
    {
     "output_type": "execute_result",
     "data": {
      "text/plain": [
       "2"
      ]
     },
     "metadata": {},
     "execution_count": 2
    }
   ],
   "source": [
    "s2.base"
   ]
  },
  {
   "source": [
    "### 45.1.2  from import로 변수, 함수 가져오기"
   ],
   "cell_type": "markdown",
   "metadata": {}
  },
  {
   "cell_type": "code",
   "execution_count": 5,
   "metadata": {},
   "outputs": [
    {
     "output_type": "execute_result",
     "data": {
      "text/plain": [
       "(2, 1024)"
      ]
     },
     "metadata": {},
     "execution_count": 5
    }
   ],
   "source": [
    "from square2 import base, square\n",
    "base, square(10)"
   ]
  },
  {
   "source": [
    "### 45.1.3  모듈에 클래스 작성하기"
   ],
   "cell_type": "markdown",
   "metadata": {}
  },
  {
   "cell_type": "code",
   "execution_count": 7,
   "metadata": {},
   "outputs": [
    {
     "output_type": "stream",
     "name": "stdout",
     "text": [
      "안녕하세요. 저는 마리아입니다.\n"
     ]
    }
   ],
   "source": [
    "import person\n",
    "maria = person.Person('마리아', 20, '서울시 서초구 반포동')\n",
    "maria.greeting()"
   ]
  },
  {
   "source": [
    "### 45.1.4  from import로 클래스 가져오기"
   ],
   "cell_type": "markdown",
   "metadata": {}
  },
  {
   "cell_type": "code",
   "execution_count": 6,
   "metadata": {},
   "outputs": [
    {
     "output_type": "stream",
     "name": "stdout",
     "text": [
      "안녕하세요. 저는 마리아입니다.\n"
     ]
    }
   ],
   "source": [
    "from person import Person\n",
    "maria = Person('마리아', 20, '서울시 서초구 반포동')\n",
    "maria.greeting()"
   ]
  },
  {
   "source": [
    "### 45.2 모듈과 시작점 알아보기"
   ],
   "cell_type": "markdown",
   "metadata": {}
  },
  {
   "cell_type": "code",
   "execution_count": 13,
   "metadata": {},
   "outputs": [
    {
     "output_type": "stream",
     "name": "stdout",
     "text": [
      "main.py __name__: __main__\n"
     ]
    }
   ],
   "source": [
    "import hello\n",
    "print('main.py __name__:', __name__)"
   ]
  },
  {
   "source": [
    "### 45.2.1  스크립트 파일로 실행하거나 모듈로 사용하는 코드 만들기"
   ],
   "cell_type": "markdown",
   "metadata": {}
  },
  {
   "cell_type": "code",
   "execution_count": 3,
   "metadata": {},
   "outputs": [
    {
     "output_type": "execute_result",
     "data": {
      "text/plain": [
       "(30, 200)"
      ]
     },
     "metadata": {},
     "execution_count": 3
    }
   ],
   "source": [
    "import calc\n",
    "calc.add(10, 20), calc.mul(10, 20)"
   ]
  },
  {
   "source": [
    "### 45.3.2  패키지 사용하기"
   ],
   "cell_type": "markdown",
   "metadata": {}
  },
  {
   "cell_type": "code",
   "execution_count": 6,
   "metadata": {},
   "outputs": [
    {
     "output_type": "stream",
     "name": "stdout",
     "text": [
      "30\n200\n600.0\n1200\n"
     ]
    }
   ],
   "source": [
    "# calcpkg 패키지의 geometry 모듈을 가져옴\n",
    "import calcpkg.operation\n",
    "import calcpkg.geometry\n",
    " \n",
    "# operation 모듈의 add 함수 사용\n",
    "print(calcpkg.operation.add(10, 20))\n",
    "\n",
    "# operation 모듈의 mul 함수 사용\n",
    "print(calcpkg.operation.mul(10, 20))\n",
    " \n",
    "# geometry 모듈의 triangle_area 함수 사용\n",
    "print(calcpkg.geometry.triangle_area(30, 40))\n",
    "\n",
    "# geometry 모듈의 rectangle_area 함수 사용\n",
    "print(calcpkg.geometry.rectangle_area(30, 40))"
   ]
  },
  {
   "source": [
    "### 45.4 패키지에서 from import 응용하기"
   ],
   "cell_type": "markdown",
   "metadata": {}
  },
  {
   "cell_type": "code",
   "execution_count": 9,
   "metadata": {},
   "outputs": [],
   "source": [
    "# 현재 패키지의 operation, geometry 모듈에서 각 함수를 가져옴\n",
    "from calcpkg.operation import add, mul\n",
    "# from .geometry import triangle_area, rectangle_area"
   ]
  },
  {
   "cell_type": "code",
   "execution_count": null,
   "metadata": {},
   "outputs": [],
   "source": []
  }
 ]
}