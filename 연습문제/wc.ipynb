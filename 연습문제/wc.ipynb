{
 "metadata": {
  "language_info": {
   "codemirror_mode": {
    "name": "ipython",
    "version": 3
   },
   "file_extension": ".py",
   "mimetype": "text/x-python",
   "name": "python",
   "nbconvert_exporter": "python",
   "pygments_lexer": "ipython3",
   "version": "3.8.3-final"
  },
  "orig_nbformat": 2,
  "kernelspec": {
   "name": "Python 3.8.3 64-bit (conda)",
   "display_name": "Python 3.8.3 64-bit (conda)",
   "metadata": {
    "interpreter": {
     "hash": "b3ba2566441a7c06988d0923437866b63cedc61552a5af99d1f4fb67d367b25f"
    }
   }
  }
 },
 "nbformat": 4,
 "nbformat_minor": 2,
 "cells": [
  {
   "cell_type": "code",
   "execution_count": 2,
   "metadata": {},
   "outputs": [],
   "source": [
    "text = '''\n",
    "Lorem ipsum dolor sit amet, consectetur adipiscing elit. In tempor eros orci, sodales accumsan ex efficitur eu. Nunc et nulla purus. Interdum et malesuada fames ac ante ipsum primis in faucibus. Nullam arcu turpis, dictum id ipsum a, fermentum laoreet sem. Mauris pulvinar malesuada nunc vitae maximus. Mauris condimentum mauris molestie ligula molestie pellentesque. Aenean vitae pellentesque arcu. Cras at nisi eu ex ultrices ultrices ac id purus. Nulla consectetur orci a orci porta, vitae fermentum mi tristique. Maecenas velit nisi, consectetur vel ligula sit amet, volutpat consectetur nulla. Duis non vulputate felis. Proin a eleifend turpis, sed tempus libero. Etiam ex risus, rutrum ac egestas et, tincidunt et libero. Praesent convallis elit in ultrices ullamcorper. Suspendisse gravida euismod turpis a accumsan. Orci varius natoque penatibus et magnis dis parturient montes, nascetur ridiculus mus.\n",
    "\n",
    "Nunc nisl ipsum, iaculis sit amet lectus nec, blandit suscipit neque. Aenean aliquam sem a ligula dapibus, ut fermentum magna viverra. Quisque varius turpis nisi, in pretium velit eleifend sed. Fusce efficitur interdum lectus eget lacinia. Praesent non risus posuere, accumsan dolor mollis, lobortis turpis. Praesent commodo magna et massa sodales consectetur. Duis nibh arcu, sodales in purus id, finibus vehicula sem. Phasellus semper augue diam, eu lobortis ante ornare sed. Nunc ac purus felis. Vivamus posuere lorem commodo vulputate molestie. Cras nec feugiat orci. Nullam iaculis massa non mauris finibus, at egestas elit cursus. Sed suscipit velit sit amet magna blandit volutpat.\n",
    "\n",
    "Cras maximus risus velit, et placerat quam mollis ullamcorper. In est ante, elementum non lectus scelerisque, rhoncus ullamcorper ligula. Lorem ipsum dolor sit amet, consectetur adipiscing elit. Maecenas eros metus, ornare molestie nibh eu, euismod congue metus. Morbi consequat sapien turpis, in dapibus dui pharetra sit amet. Pellentesque a ipsum tincidunt, eleifend neque id, iaculis elit. Praesent ut nulla sed nisi hendrerit lobortis a ut lacus. Fusce consequat, lorem semper ornare dignissim, leo diam iaculis ex, ac gravida velit tortor id sem. Etiam vestibulum placerat velit, a maximus ex ultricies et. Nunc facilisis tortor quis turpis malesuada volutpat. Mauris faucibus pulvinar massa ut porttitor. Donec eget sem nec nulla iaculis elementum vel vitae ipsum.\n",
    "\n",
    "Fusce auctor vitae massa at tincidunt. Aenean quis elit porttitor ligula pulvinar tincidunt. Proin sem est, convallis sed sollicitudin vel, pretium eget ex. Pellentesque habitant morbi tristique senectus et netus et malesuada fames ac turpis egestas. Sed accumsan ac arcu eu fringilla. Nullam molestie magna a consequat aliquam. Interdum et malesuada fames ac ante ipsum primis in faucibus. Pellentesque aliquam, risus vitae pellentesque interdum, eros nisl rhoncus nunc, sodales bibendum elit risus at diam. Phasellus orci mi, luctus ac ornare sed, fermentum eget dui. Nulla arcu lectus, placerat non libero non, tristique fermentum dui. Fusce aliquet, nisl vel pellentesque egestas, leo nisi egestas nunc, non posuere lorem neque sit amet massa.\n",
    "\n",
    "Vestibulum vel justo felis. Integer nec dictum libero, faucibus viverra lorem. Interdum et malesuada fames ac ante ipsum primis in faucibus. Mauris rutrum venenatis interdum. Pellentesque fermentum malesuada mi, non vestibulum eros. Aliquam nec purus nec dolor eleifend accumsan vel sed est. Curabitur cursus vehicula magna a euismod. Curabitur ut pulvinar eros. Cras eleifend enim ac eros facilisis dignissim. Vestibulum nec dapibus dui, in convallis odio. Donec lobortis in tortor at porttitor.\n",
    "'''"
   ]
  },
  {
   "cell_type": "code",
   "execution_count": 2,
   "metadata": {},
   "outputs": [
    {
     "output_type": "stream",
     "name": "stdout",
     "text": [
      "{'et': 12, 'ac': 11, 'a': 10, 'ipsum': 9, 'in': 9, 'turpis': 8, 'non': 8, 'sit': 7, 'amet': 7, 'elit': 7, 'malesuada': 7, 'sed': 7, 'nec': 7}\n"
     ]
    }
   ],
   "source": [
    "words = []\n",
    "for word in text.split():\n",
    "    words.append(word.strip(',.'))\n",
    "\n",
    "wordCount = {}\n",
    "for word in words:\n",
    "    wordCount[word] = words.count(word)\n",
    "\n",
    "sortedList = list(reversed(sorted(wordCount.values())))\n",
    "top10List = {}\n",
    "minimum = 0\n",
    "maximum = 10\n",
    "\n",
    "for sortedKey in sortedList:\n",
    "    minimum += 1\n",
    "    if minimum < maximum:\n",
    "        for key, value in wordCount.items():\n",
    "            if value == sortedKey:\n",
    "                top10List[key] = value\n",
    "\n",
    "print( top10List )"
   ]
  },
  {
   "cell_type": "code",
   "execution_count": 5,
   "metadata": {
    "tags": []
   },
   "outputs": [
    {
     "output_type": "execute_result",
     "data": {
      "text/plain": [
       "     word  count\n",
       "33      a    247\n",
       "18     et     38\n",
       "8      in     29\n",
       "24     ac     28\n",
       "47     at     20\n",
       "122   est     17\n",
       "7    elit     13\n",
       "55    vel     12\n",
       "96     ut     12\n",
       "32     id     12"
      ],
      "text/html": "<div>\n<style scoped>\n    .dataframe tbody tr th:only-of-type {\n        vertical-align: middle;\n    }\n\n    .dataframe tbody tr th {\n        vertical-align: top;\n    }\n\n    .dataframe thead th {\n        text-align: right;\n    }\n</style>\n<table border=\"1\" class=\"dataframe\">\n  <thead>\n    <tr style=\"text-align: right;\">\n      <th></th>\n      <th>word</th>\n      <th>count</th>\n    </tr>\n  </thead>\n  <tbody>\n    <tr>\n      <th>33</th>\n      <td>a</td>\n      <td>247</td>\n    </tr>\n    <tr>\n      <th>18</th>\n      <td>et</td>\n      <td>38</td>\n    </tr>\n    <tr>\n      <th>8</th>\n      <td>in</td>\n      <td>29</td>\n    </tr>\n    <tr>\n      <th>24</th>\n      <td>ac</td>\n      <td>28</td>\n    </tr>\n    <tr>\n      <th>47</th>\n      <td>at</td>\n      <td>20</td>\n    </tr>\n    <tr>\n      <th>122</th>\n      <td>est</td>\n      <td>17</td>\n    </tr>\n    <tr>\n      <th>7</th>\n      <td>elit</td>\n      <td>13</td>\n    </tr>\n    <tr>\n      <th>55</th>\n      <td>vel</td>\n      <td>12</td>\n    </tr>\n    <tr>\n      <th>96</th>\n      <td>ut</td>\n      <td>12</td>\n    </tr>\n    <tr>\n      <th>32</th>\n      <td>id</td>\n      <td>12</td>\n    </tr>\n  </tbody>\n</table>\n</div>"
     },
     "metadata": {},
     "execution_count": 5
    }
   ],
   "source": [
    "import pandas as pd\n",
    "\n",
    "words = []\n",
    "unique = []\n",
    "\n",
    "for word in text.split():\n",
    "    stripWord = word.lower().strip(',.')\n",
    "\n",
    "    if stripWord not in unique:\n",
    "        unique.append(stripWord)\n",
    "        words.append({\n",
    "            'word': stripWord,\n",
    "            'count': text.count(stripWord)\n",
    "        })\n",
    "\n",
    "df = pd.DataFrame(words)\n",
    "df = df.sort_values(by=['count', 'word'], axis=0, ascending=False)\n",
    "df[0:10]"
   ]
  },
  {
   "cell_type": "code",
   "execution_count": 17,
   "metadata": {},
   "outputs": [
    {
     "output_type": "stream",
     "name": "stdout",
     "text": [
      "1 et 12\n2 in 11\n3 ac 11\n4 a 10\n5 ipsum 9\n6 sed 9\n7 turpis 8\n8 pellentesque 8\n9 non 8\n10 sit 7\n"
     ]
    }
   ],
   "source": [
    "import re\n",
    "import string\n",
    "\n",
    "# 구둣점, 숫자 삭제\n",
    "text = re.sub(f'[{string.punctuation}0-9]', '', text, flags=re.MULTILINE)\n",
    "\n",
    "# 소문자로 변경\n",
    "text = text.lower()\n",
    "\n",
    "# 단어 분리\n",
    "words = text.split()\n",
    "\n",
    "# 단어 저장\n",
    "word_dict = {}\n",
    "for word in words:\n",
    "    if word in word_dict.keys():\n",
    "        word_dict[word] += 1\n",
    "    else:\n",
    "        word_dict.update({word: 1})\n",
    "\n",
    "# 순서 정렬\n",
    "word_sorted = sorted(word_dict, key=lambda k : word_dict[k], reverse=True)\n",
    "\n",
    "# 단어 출력\n",
    "for index, value in enumerate(word_sorted):\n",
    "    if index == 10:\n",
    "        break;\n",
    "    print(index+1, value, word_dict[value])"
   ]
  },
  {
   "source": [
    "### 불용어(stop word) 제거 - 분석에 큰 의미가 없는 단어는 제거해야 함\n",
    "### https://en.wikipedia.org/wiki/Stop_word"
   ],
   "cell_type": "markdown",
   "metadata": {}
  },
  {
   "source": [
    "### 파일로부터 읽어서 Word Counting"
   ],
   "cell_type": "markdown",
   "metadata": {}
  },
  {
   "cell_type": "code",
   "execution_count": null,
   "metadata": {},
   "outputs": [],
   "source": []
  }
 ]
}