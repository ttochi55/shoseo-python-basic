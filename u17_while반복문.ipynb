{
 "metadata": {
  "language_info": {
   "codemirror_mode": {
    "name": "ipython",
    "version": 3
   },
   "file_extension": ".py",
   "mimetype": "text/x-python",
   "name": "python",
   "nbconvert_exporter": "python",
   "pygments_lexer": "ipython3",
   "version": "3.8.3-final"
  },
  "orig_nbformat": 2,
  "kernelspec": {
   "name": "Python 3.8.3 64-bit (conda)",
   "display_name": "Python 3.8.3 64-bit (conda)",
   "metadata": {
    "interpreter": {
     "hash": "b3ba2566441a7c06988d0923437866b63cedc61552a5af99d1f4fb67d367b25f"
    }
   }
  }
 },
 "nbformat": 4,
 "nbformat_minor": 2,
 "cells": [
  {
   "source": [
    "# Unit 17. while 반복문"
   ],
   "cell_type": "markdown",
   "metadata": {}
  },
  {
   "cell_type": "code",
   "execution_count": 1,
   "metadata": {},
   "outputs": [
    {
     "output_type": "stream",
     "name": "stdout",
     "text": [
      "Hello world! 0\nHello world! 1\nHello world! 2\nHello world! 3\nHello world! 4\n"
     ]
    }
   ],
   "source": [
    "for i in range(5):\n",
    "    print('Hello world!', i)"
   ]
  },
  {
   "cell_type": "code",
   "execution_count": 2,
   "metadata": {},
   "outputs": [
    {
     "output_type": "stream",
     "name": "stdout",
     "text": [
      "Hello world! 0\nHello world! 1\nHello world! 2\nHello world! 3\nHello world! 4\n"
     ]
    }
   ],
   "source": [
    "i = 0\n",
    "while i < 5:\n",
    "    print('Hello world!', i)\n",
    "    i += 1"
   ]
  },
  {
   "cell_type": "code",
   "execution_count": 3,
   "metadata": {},
   "outputs": [
    {
     "output_type": "stream",
     "name": "stdout",
     "text": [
      "Hello world! 0\nHello world! 1\nHello world! 2\n"
     ]
    }
   ],
   "source": [
    "count = int(input('반복할 횟수> '))\n",
    "i = 0\n",
    "while i < count:\n",
    "    print('Hello world!', i)\n",
    "    i += 1"
   ]
  },
  {
   "source": [
    "## 반복 횟수가 정해지지 않았을 경우(while)"
   ],
   "cell_type": "markdown",
   "metadata": {}
  },
  {
   "cell_type": "code",
   "execution_count": 9,
   "metadata": {},
   "outputs": [
    {
     "output_type": "execute_result",
     "data": {
      "text/plain": [
       "0.9538220426351421"
      ]
     },
     "metadata": {},
     "execution_count": 9
    }
   ],
   "source": [
    "import random\n",
    "random.random()"
   ]
  },
  {
   "cell_type": "code",
   "execution_count": 11,
   "metadata": {},
   "outputs": [
    {
     "output_type": "execute_result",
     "data": {
      "text/plain": [
       "5"
      ]
     },
     "metadata": {},
     "execution_count": 11
    }
   ],
   "source": [
    "# 1에서 6까지의 정수 값\n",
    "random.randint(1, 6)"
   ]
  },
  {
   "cell_type": "code",
   "execution_count": 13,
   "metadata": {},
   "outputs": [
    {
     "output_type": "stream",
     "name": "stdout",
     "text": [
      "4\n5\n"
     ]
    }
   ],
   "source": [
    "dice = random.randint(1, 6)\n",
    "while dice != 3:\n",
    "    print(dice)\n",
    "    dice = random.randint(1, 6)"
   ]
  },
  {
   "cell_type": "code",
   "execution_count": 14,
   "metadata": {},
   "outputs": [
    {
     "output_type": "stream",
     "name": "stdout",
     "text": [
      "4\n"
     ]
    }
   ],
   "source": [
    "dice = [1, 2, 3, 4, 5, 6]\n",
    "val = random.choice(dice)\n",
    "print(val)"
   ]
  },
  {
   "cell_type": "code",
   "execution_count": 17,
   "metadata": {},
   "outputs": [
    {
     "output_type": "stream",
     "name": "stdout",
     "text": [
      "apple\n"
     ]
    }
   ],
   "source": [
    "fruits = ['apple', 'orange', 'apple', 'banana', 'cherry']\n",
    "fruit = random.choice(fruits)\n",
    "print(fruit)"
   ]
  },
  {
   "cell_type": "code",
   "execution_count": 18,
   "metadata": {},
   "outputs": [
    {
     "output_type": "execute_result",
     "data": {
      "text/plain": [
       "1"
      ]
     },
     "metadata": {},
     "execution_count": 18
    }
   ],
   "source": [
    "int(True)"
   ]
  },
  {
   "cell_type": "code",
   "execution_count": 24,
   "metadata": {},
   "outputs": [
    {
     "output_type": "stream",
     "name": "stdout",
     "text": [
      "3의 배수\n"
     ]
    }
   ],
   "source": [
    "num = int(input('정수 입력> '))\n",
    "print(num * (num % 3 == 0) or '3의 배수가 아닙니다.')\n",
    "# print('3의 배수' * (num % 3 == 0) or '3의 배수가 아닙니다.')"
   ]
  },
  {
   "source": [
    "표준 입력으로 금액(정수)이 입력됩니다. 1회당 요금은 1,350원이고, 교통카드를 사용했을 때마다의 잔액을 각 줄에 출력하는 프로그램을 만드세요(input에서 안내 문자열은 출력하지 않아야 합니다). 단, 최초 금액은 출력하지 않아야 합니다. 그리고 잔액은 음수가 될 수 없으며 잔액이 부족하면 출력을 끝냅니다."
   ],
   "cell_type": "markdown",
   "metadata": {}
  },
  {
   "cell_type": "code",
   "execution_count": 26,
   "metadata": {},
   "outputs": [
    {
     "output_type": "stream",
     "name": "stdout",
     "text": [
      "10000\n8650\n7300\n5950\n4600\n3250\n1900\n550\n"
     ]
    }
   ],
   "source": [
    "i = int(input())\n",
    "while i > 0:\n",
    "    i -= 1350"
   ]
  }
 ]
}